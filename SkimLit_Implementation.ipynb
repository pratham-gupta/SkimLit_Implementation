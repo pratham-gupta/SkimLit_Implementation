{
  "cells": [
    {
      "cell_type": "markdown",
      "metadata": {
        "id": "view-in-github",
        "colab_type": "text"
      },
      "source": [
        "<a href=\"https://colab.research.google.com/github/pratham-gupta/SkimLit_Implementation/blob/master/SkimLit_Implementation.ipynb\" target=\"_parent\"><img src=\"https://colab.research.google.com/assets/colab-badge.svg\" alt=\"Open In Colab\"/></a>"
      ]
    },
    {
      "cell_type": "markdown",
      "metadata": {
        "id": "qnQohya_Hp6U"
      },
      "source": [
        "# Project: SkimList\n",
        "The purpose of the notbook is to build multiple NLP model to make reading abstracts easier.\n",
        "The Dataset comprises the abstracts of medical research paper divided into multiple categories such as background,methods, objectives, conclusions...\n",
        "The goal of the notebook is to classify the categorise the given paragraph of an abstract, which hence helps the reader in understanding the text.\n",
        "\n",
        "Dataset: PubMed 200k RCT https://arxiv.org/abs/1710.06071 <br>\n",
        "https://github.com/Franck-Dernoncourt/pubmed-rct"
      ]
    },
    {
      "cell_type": "code",
      "execution_count": 1,
      "metadata": {
        "colab": {
          "base_uri": "https://localhost:8080/"
        },
        "id": "RFI_16d4LVGA",
        "outputId": "6c2f7c20-ba2d-4099-bcc5-d96655e6fdfc"
      },
      "outputs": [
        {
          "output_type": "stream",
          "name": "stdout",
          "text": [
            "GPU 0: Tesla T4 (UUID: GPU-e5086c98-89e9-2fc4-fc5c-9d55b88fbbc6)\n"
          ]
        }
      ],
      "source": [
        "#confirm the GPU\n",
        "!nvidia-smi -L"
      ]
    },
    {
      "cell_type": "code",
      "execution_count": 2,
      "metadata": {
        "colab": {
          "base_uri": "https://localhost:8080/"
        },
        "id": "8i1bzF03LaRz",
        "outputId": "9589d16b-279e-47b4-d67a-cd33ecdf0b3b"
      },
      "outputs": [
        {
          "output_type": "stream",
          "name": "stdout",
          "text": [
            "Cloning into 'pubmed-rct'...\n",
            "remote: Enumerating objects: 33, done.\u001b[K\n",
            "remote: Counting objects: 100% (3/3), done.\u001b[K\n",
            "remote: Compressing objects: 100% (3/3), done.\u001b[K\n",
            "remote: Total 33 (delta 0), reused 1 (delta 0), pack-reused 30\u001b[K\n",
            "Unpacking objects: 100% (33/33), done.\n",
            "PubMed_200k_RCT\n",
            "PubMed_200k_RCT_numbers_replaced_with_at_sign\n",
            "PubMed_20k_RCT\n",
            "PubMed_20k_RCT_numbers_replaced_with_at_sign\n",
            "README.md\n"
          ]
        }
      ],
      "source": [
        "#get the data\n",
        "!git clone https://github.com/Franck-Dernoncourt/pubmed-rct\n",
        "!ls  pubmed-rct"
      ]
    },
    {
      "cell_type": "code",
      "execution_count": 3,
      "metadata": {
        "colab": {
          "base_uri": "https://localhost:8080/"
        },
        "id": "adYp1goILnuU",
        "outputId": "0276ef84-be7d-4e00-e58c-8e396412a3bb"
      },
      "outputs": [
        {
          "output_type": "stream",
          "name": "stdout",
          "text": [
            "dev.txt  test.txt  train.txt\n"
          ]
        }
      ],
      "source": [
        "!ls /content/pubmed-rct/PubMed_20k_RCT_numbers_replaced_with_at_sign"
      ]
    },
    {
      "cell_type": "markdown",
      "metadata": {
        "id": "QSTrl9lOM2yh"
      },
      "source": [
        "## Visualize and Preprocess\n",
        "performing the experiments on smaller dataset <br>\n",
        "Visualizing the dataset and preprocess it"
      ]
    },
    {
      "cell_type": "code",
      "execution_count": 4,
      "metadata": {
        "id": "eLrXOg60L1B2"
      },
      "outputs": [],
      "source": [
        "#setting the datadir for smaller dataset\n",
        "data_dir = \"/content/pubmed-rct/PubMed_20k_RCT_numbers_replaced_with_at_sign/\"\n",
        "\n",
        "\n",
        "#visualizing the data\n",
        "with open('/content/pubmed-rct/PubMed_20k_RCT_numbers_replaced_with_at_sign/train.txt') as f:\n",
        "  a = f.readlines()"
      ]
    },
    {
      "cell_type": "code",
      "execution_count": 5,
      "metadata": {
        "colab": {
          "base_uri": "https://localhost:8080/"
        },
        "id": "EsJgcRIMMLFS",
        "outputId": "86cc8f53-461b-4f07-92ae-d59c455ef5f0"
      },
      "outputs": [
        {
          "output_type": "stream",
          "name": "stdout",
          "text": [
            "###24293578\n",
            " OBJECTIVE\tTo investigate the efficacy of @ weeks of daily low-dose oral prednisolone in improving pain , mobility , and systemic low-grade inflammation in the short term and whether the effect would be sustained at @ weeks in older adults with moderate to severe knee osteoarthritis ( OA ) .\n",
            " METHODS\tA total of @ patients with primary knee OA were randomized @:@ ; @ received @ mg/day of prednisolone and @ received placebo for @ weeks .\n",
            " METHODS\tOutcome measures included pain reduction and improvement in function scores and systemic inflammation markers .\n",
            " METHODS\tPain was assessed using the visual analog pain scale ( @-@ mm ) .\n",
            " METHODS\tSecondary outcome measures included the Western Ontario and McMaster Universities Osteoarthritis Index scores , patient global assessment ( PGA ) of the severity of knee OA , and @-min walk distance ( @MWD ) .\n",
            " METHODS\tSerum levels of interleukin @ ( IL-@ ) , IL-@ , tumor necrosis factor ( TNF ) - , and high-sensitivity C-reactive protein ( hsCRP ) were measured .\n",
            " RESULTS\tThere was a clinically relevant reduction in the intervention group compared to the placebo group for knee pain , physical function , PGA , and @MWD at @ weeks .\n",
            " RESULTS\tThe mean difference between treatment arms ( @ % CI ) was @ ( @-@ @ ) , p < @ ; @ ( @-@ @ ) , p < @ ; @ ( @-@ @ ) , p < @ ; and @ ( @-@ @ ) , p < @ , respectively .\n",
            " RESULTS\tFurther , there was a clinically relevant reduction in the serum levels of IL-@ , IL-@ , TNF - , and hsCRP at @ weeks in the intervention group when compared to the placebo group .\n",
            " RESULTS\tThese differences remained significant at @ weeks .\n",
            " RESULTS\tThe Outcome Measures in Rheumatology Clinical Trials-Osteoarthritis Research Society International responder rate was @ % in the intervention group and @ % in the placebo group ( p < @ ) .\n",
            " CONCLUSIONS\tLow-dose oral prednisolone had both a short-term and a longer sustained effect resulting in less knee pain , better physical function , and attenuation of systemic inflammation in older patients with knee OA ( ClinicalTrials.gov identifier NCT@ ) .\n",
            " \n",
            " ###24854809\n",
            " BACKGROUND\tEmotional eating is associated with overeating and the development of obesity .\n",
            "\n"
          ]
        }
      ],
      "source": [
        "#looks like each para/line of an abstract is divided into lines and each line is given the given category in starting of it.\n",
        "#starting of each para is started with `###88888`formated numbers \n",
        "print(*a[:16])"
      ]
    },
    {
      "cell_type": "code",
      "execution_count": 6,
      "metadata": {
        "id": "DhqRkwNjMLot"
      },
      "outputs": [],
      "source": [
        "def get_lines(filename):\n",
        "  \"\"\"\n",
        "  Reads a given text file and returns the lines of text as list\n",
        "  Args:\n",
        "    filename: a string containing the target filepath (*.txt file)\n",
        "  Returns:\n",
        "    A list of string with one string per line from the target filename\n",
        "  \"\"\"\n",
        "  with open(filename) as f:\n",
        "    return f.readlines()\n",
        "\n"
      ]
    },
    {
      "cell_type": "code",
      "execution_count": 7,
      "metadata": {
        "colab": {
          "base_uri": "https://localhost:8080/"
        },
        "id": "jJlYSDwLNqLA",
        "outputId": "95d34339-120e-474b-da42-c5b55a2fa115"
      },
      "outputs": [
        {
          "output_type": "execute_result",
          "data": {
            "text/plain": [
              "['###24293578\\n',\n",
              " 'OBJECTIVE\\tTo investigate the efficacy of @ weeks of daily low-dose oral prednisolone in improving pain , mobility , and systemic low-grade inflammation in the short term and whether the effect would be sustained at @ weeks in older adults with moderate to severe knee osteoarthritis ( OA ) .\\n',\n",
              " 'METHODS\\tA total of @ patients with primary knee OA were randomized @:@ ; @ received @ mg/day of prednisolone and @ received placebo for @ weeks .\\n',\n",
              " 'METHODS\\tOutcome measures included pain reduction and improvement in function scores and systemic inflammation markers .\\n',\n",
              " 'METHODS\\tPain was assessed using the visual analog pain scale ( @-@ mm ) .\\n',\n",
              " 'METHODS\\tSecondary outcome measures included the Western Ontario and McMaster Universities Osteoarthritis Index scores , patient global assessment ( PGA ) of the severity of knee OA , and @-min walk distance ( @MWD ) .\\n',\n",
              " 'METHODS\\tSerum levels of interleukin @ ( IL-@ ) , IL-@ , tumor necrosis factor ( TNF ) - , and high-sensitivity C-reactive protein ( hsCRP ) were measured .\\n',\n",
              " 'RESULTS\\tThere was a clinically relevant reduction in the intervention group compared to the placebo group for knee pain , physical function , PGA , and @MWD at @ weeks .\\n',\n",
              " 'RESULTS\\tThe mean difference between treatment arms ( @ % CI ) was @ ( @-@ @ ) , p < @ ; @ ( @-@ @ ) , p < @ ; @ ( @-@ @ ) , p < @ ; and @ ( @-@ @ ) , p < @ , respectively .\\n',\n",
              " 'RESULTS\\tFurther , there was a clinically relevant reduction in the serum levels of IL-@ , IL-@ , TNF - , and hsCRP at @ weeks in the intervention group when compared to the placebo group .\\n',\n",
              " 'RESULTS\\tThese differences remained significant at @ weeks .\\n',\n",
              " 'RESULTS\\tThe Outcome Measures in Rheumatology Clinical Trials-Osteoarthritis Research Society International responder rate was @ % in the intervention group and @ % in the placebo group ( p < @ ) .\\n',\n",
              " 'CONCLUSIONS\\tLow-dose oral prednisolone had both a short-term and a longer sustained effect resulting in less knee pain , better physical function , and attenuation of systemic inflammation in older patients with knee OA ( ClinicalTrials.gov identifier NCT@ ) .\\n',\n",
              " '\\n',\n",
              " '###24854809\\n',\n",
              " 'BACKGROUND\\tEmotional eating is associated with overeating and the development of obesity .\\n',\n",
              " 'BACKGROUND\\tYet , empirical evidence for individual ( trait ) differences in emotional eating and cognitive mechanisms that contribute to eating during sad mood remain equivocal .\\n']"
            ]
          },
          "metadata": {},
          "execution_count": 7
        }
      ],
      "source": [
        "#reading the training lines\n",
        "train_lines = get_lines(data_dir+\"train.txt\")\n",
        "train_lines[:17]"
      ]
    },
    {
      "cell_type": "code",
      "execution_count": 8,
      "metadata": {
        "id": "uezN9x-6NzH7"
      },
      "outputs": [],
      "source": [
        "#preprocess text\n",
        "def preprocess_text_with_line_numbers(filename):\n",
        "\n",
        "  input_lines = get_lines(filename)\n",
        "\n",
        "\n",
        "  count = 0\n",
        "  abstract_samples = []\n",
        "  abstract_lines = \"\"\n",
        "\n",
        "  for line in input_lines:\n",
        "    #check if line contains the line number\n",
        "    if line.startswith(\"###\"):\n",
        "      curr_abstract_id = line\n",
        "      abstract_lines = \"\"\n",
        "\n",
        "\n",
        "    elif line.isspace(): #if the line is completely empty, means end of 1 abstract, which we can process.\n",
        "      \n",
        "      abstract_lines_split = abstract_lines.splitlines()\n",
        "      total_abstract_lines = len(abstract_lines_split) - 1\n",
        "      for line_number, line in enumerate(abstract_lines_split):\n",
        "        line_data = {}\n",
        "        sentence_category, sentence = line.split(\"\\t\")\n",
        "        line_data['line_number'] = line_number\n",
        "        line_data['target'] = sentence_category\n",
        "        line_data['text'] = sentence\n",
        "        line_data['total_lines'] = total_abstract_lines\n",
        "        abstract_samples.append(line_data)\n",
        "\n",
        "      \n",
        "\n",
        "        \n",
        "        \n",
        "\n",
        "\n",
        "    else:\n",
        "      abstract_lines += line\n",
        "        \n",
        "      \n",
        "    #print(line)\n",
        "    # count +=1\n",
        "    # if count == 20:\n",
        "    #   break\n",
        "\n",
        "  return abstract_samples"
      ]
    },
    {
      "cell_type": "code",
      "execution_count": 9,
      "metadata": {
        "colab": {
          "base_uri": "https://localhost:8080/"
        },
        "id": "kvebhJ7QA5ww",
        "outputId": "67090175-2af0-4a7d-b7ca-7149ef60cb98"
      },
      "outputs": [
        {
          "output_type": "stream",
          "name": "stdout",
          "text": [
            "CPU times: user 516 ms, sys: 111 ms, total: 626 ms\n",
            "Wall time: 626 ms\n"
          ]
        }
      ],
      "source": [
        "%%time\n",
        "import pandas as pd\n",
        "train_samples = preprocess_text_with_line_numbers(data_dir+\"train.txt\")\n",
        "val_samples = preprocess_text_with_line_numbers(data_dir+'dev.txt')\n",
        "test_samples = preprocess_text_with_line_numbers(data_dir+\"test.txt\")"
      ]
    },
    {
      "cell_type": "code",
      "execution_count": 10,
      "metadata": {
        "id": "xPc-fpzfENri"
      },
      "outputs": [],
      "source": [
        "train_df = pd.DataFrame(train_samples)\n",
        "val_df = pd.DataFrame(val_samples)\n",
        "test_df = pd.DataFrame(test_samples)"
      ]
    },
    {
      "cell_type": "code",
      "execution_count": 11,
      "metadata": {
        "colab": {
          "base_uri": "https://localhost:8080/"
        },
        "id": "kBTzq5sgVzU3",
        "outputId": "b6d7e8ab-d59b-41d6-e045-ea4702924800"
      },
      "outputs": [
        {
          "output_type": "stream",
          "name": "stdout",
          "text": [
            "   line_number     target                                               text  \\\n",
            "0            0  OBJECTIVE  To investigate the efficacy of @ weeks of dail...   \n",
            "1            1    METHODS  A total of @ patients with primary knee OA wer...   \n",
            "2            2    METHODS  Outcome measures included pain reduction and i...   \n",
            "3            3    METHODS  Pain was assessed using the visual analog pain...   \n",
            "4            4    METHODS  Secondary outcome measures included the Wester...   \n",
            "\n",
            "   total_lines  \n",
            "0           11  \n",
            "1           11  \n",
            "2           11  \n",
            "3           11  \n",
            "4           11  \n",
            "   line_number      target                                               text  \\\n",
            "0            0  BACKGROUND  IgE sensitization to Aspergillus fumigatus and...   \n",
            "1            1  BACKGROUND  It is not clear whether these patients would b...   \n",
            "2            2   OBJECTIVE  We sought to determine whether a @-month cours...   \n",
            "3            3     METHODS  Asthmatic patients who were IgE sensitized to ...   \n",
            "4            4     METHODS  Primary outcomes were improvement in quality o...   \n",
            "\n",
            "   total_lines  \n",
            "0            9  \n",
            "1            9  \n",
            "2            9  \n",
            "3            9  \n",
            "4            9  \n",
            "   line_number      target                                               text  \\\n",
            "0            0  BACKGROUND  This study analyzed liver function abnormaliti...   \n",
            "1            1     RESULTS  A post hoc analysis was conducted with the use...   \n",
            "2            2     RESULTS  Liver function tests ( LFTs ) were measured at...   \n",
            "3            3     RESULTS  Survival analyses were used to assess the asso...   \n",
            "4            4     RESULTS  The percentage of patients with abnormal LFTs ...   \n",
            "\n",
            "   total_lines  \n",
            "0            8  \n",
            "1            8  \n",
            "2            8  \n",
            "3            8  \n",
            "4            8  \n"
          ]
        }
      ],
      "source": [
        "print(train_df.head(5))\n",
        "print(val_df.head(5))\n",
        "print(test_df.head(5))"
      ]
    },
    {
      "cell_type": "code",
      "execution_count": 12,
      "metadata": {
        "colab": {
          "base_uri": "https://localhost:8080/"
        },
        "id": "3MFRmO55hOgC",
        "outputId": "05510455-ecfd-485a-901b-03a8854683c5"
      },
      "outputs": [
        {
          "output_type": "execute_result",
          "data": {
            "text/plain": [
              "METHODS        59353\n",
              "RESULTS        57953\n",
              "CONCLUSIONS    27168\n",
              "BACKGROUND     21727\n",
              "OBJECTIVE      13839\n",
              "Name: target, dtype: int64"
            ]
          },
          "metadata": {},
          "execution_count": 12
        }
      ],
      "source": [
        "#distribution of labels in training data\n",
        "train_df.target.value_counts()"
      ]
    },
    {
      "cell_type": "code",
      "execution_count": 13,
      "metadata": {
        "colab": {
          "base_uri": "https://localhost:8080/",
          "height": 423
        },
        "id": "IG23OuaxUXnn",
        "outputId": "36b82a49-2473-4724-a4ce-d54ccb4bfab3"
      },
      "outputs": [
        {
          "output_type": "execute_result",
          "data": {
            "text/plain": [
              "        line_number       target  \\\n",
              "0                 0    OBJECTIVE   \n",
              "1                 1      METHODS   \n",
              "2                 2      METHODS   \n",
              "3                 3      METHODS   \n",
              "4                 4      METHODS   \n",
              "...             ...          ...   \n",
              "180035            7      RESULTS   \n",
              "180036            8      RESULTS   \n",
              "180037            9      RESULTS   \n",
              "180038           10  CONCLUSIONS   \n",
              "180039           11  CONCLUSIONS   \n",
              "\n",
              "                                                     text  total_lines  \n",
              "0       To investigate the efficacy of @ weeks of dail...           11  \n",
              "1       A total of @ patients with primary knee OA wer...           11  \n",
              "2       Outcome measures included pain reduction and i...           11  \n",
              "3       Pain was assessed using the visual analog pain...           11  \n",
              "4       Secondary outcome measures included the Wester...           11  \n",
              "...                                                   ...          ...  \n",
              "180035  For the absolute change in percent atheroma vo...           11  \n",
              "180036  For PAV , a significantly greater percentage o...           11  \n",
              "180037  Both strategies had acceptable side effect pro...           11  \n",
              "180038  Compared with standard statin monotherapy , th...           11  \n",
              "180039  ( Plaque Regression With Cholesterol Absorptio...           11  \n",
              "\n",
              "[180040 rows x 4 columns]"
            ],
            "text/html": [
              "<div>\n",
              "<style scoped>\n",
              "    .dataframe tbody tr th:only-of-type {\n",
              "        vertical-align: middle;\n",
              "    }\n",
              "\n",
              "    .dataframe tbody tr th {\n",
              "        vertical-align: top;\n",
              "    }\n",
              "\n",
              "    .dataframe thead th {\n",
              "        text-align: right;\n",
              "    }\n",
              "</style>\n",
              "<table border=\"1\" class=\"dataframe\">\n",
              "  <thead>\n",
              "    <tr style=\"text-align: right;\">\n",
              "      <th></th>\n",
              "      <th>line_number</th>\n",
              "      <th>target</th>\n",
              "      <th>text</th>\n",
              "      <th>total_lines</th>\n",
              "    </tr>\n",
              "  </thead>\n",
              "  <tbody>\n",
              "    <tr>\n",
              "      <th>0</th>\n",
              "      <td>0</td>\n",
              "      <td>OBJECTIVE</td>\n",
              "      <td>To investigate the efficacy of @ weeks of dail...</td>\n",
              "      <td>11</td>\n",
              "    </tr>\n",
              "    <tr>\n",
              "      <th>1</th>\n",
              "      <td>1</td>\n",
              "      <td>METHODS</td>\n",
              "      <td>A total of @ patients with primary knee OA wer...</td>\n",
              "      <td>11</td>\n",
              "    </tr>\n",
              "    <tr>\n",
              "      <th>2</th>\n",
              "      <td>2</td>\n",
              "      <td>METHODS</td>\n",
              "      <td>Outcome measures included pain reduction and i...</td>\n",
              "      <td>11</td>\n",
              "    </tr>\n",
              "    <tr>\n",
              "      <th>3</th>\n",
              "      <td>3</td>\n",
              "      <td>METHODS</td>\n",
              "      <td>Pain was assessed using the visual analog pain...</td>\n",
              "      <td>11</td>\n",
              "    </tr>\n",
              "    <tr>\n",
              "      <th>4</th>\n",
              "      <td>4</td>\n",
              "      <td>METHODS</td>\n",
              "      <td>Secondary outcome measures included the Wester...</td>\n",
              "      <td>11</td>\n",
              "    </tr>\n",
              "    <tr>\n",
              "      <th>...</th>\n",
              "      <td>...</td>\n",
              "      <td>...</td>\n",
              "      <td>...</td>\n",
              "      <td>...</td>\n",
              "    </tr>\n",
              "    <tr>\n",
              "      <th>180035</th>\n",
              "      <td>7</td>\n",
              "      <td>RESULTS</td>\n",
              "      <td>For the absolute change in percent atheroma vo...</td>\n",
              "      <td>11</td>\n",
              "    </tr>\n",
              "    <tr>\n",
              "      <th>180036</th>\n",
              "      <td>8</td>\n",
              "      <td>RESULTS</td>\n",
              "      <td>For PAV , a significantly greater percentage o...</td>\n",
              "      <td>11</td>\n",
              "    </tr>\n",
              "    <tr>\n",
              "      <th>180037</th>\n",
              "      <td>9</td>\n",
              "      <td>RESULTS</td>\n",
              "      <td>Both strategies had acceptable side effect pro...</td>\n",
              "      <td>11</td>\n",
              "    </tr>\n",
              "    <tr>\n",
              "      <th>180038</th>\n",
              "      <td>10</td>\n",
              "      <td>CONCLUSIONS</td>\n",
              "      <td>Compared with standard statin monotherapy , th...</td>\n",
              "      <td>11</td>\n",
              "    </tr>\n",
              "    <tr>\n",
              "      <th>180039</th>\n",
              "      <td>11</td>\n",
              "      <td>CONCLUSIONS</td>\n",
              "      <td>( Plaque Regression With Cholesterol Absorptio...</td>\n",
              "      <td>11</td>\n",
              "    </tr>\n",
              "  </tbody>\n",
              "</table>\n",
              "<p>180040 rows × 4 columns</p>\n",
              "</div>"
            ]
          },
          "metadata": {},
          "execution_count": 13
        }
      ],
      "source": [
        "# process ahead, process text into numbers via text_vectorization(using tfidf or count_vectorizer), target labels into label encodings.\n",
        "train_df"
      ]
    },
    {
      "cell_type": "code",
      "execution_count": 14,
      "metadata": {
        "id": "LNIbALdDER6Q"
      },
      "outputs": [],
      "source": [
        "#converting target column to encoded labels\n",
        "from sklearn.preprocessing import LabelEncoder\n",
        "\n",
        "le = LabelEncoder()"
      ]
    },
    {
      "cell_type": "code",
      "execution_count": 15,
      "metadata": {
        "colab": {
          "base_uri": "https://localhost:8080/"
        },
        "id": "io7p_U3_FpZ5",
        "outputId": "151f3f28-a166-4561-dd0c-a805d60f99a6"
      },
      "outputs": [
        {
          "output_type": "execute_result",
          "data": {
            "text/plain": [
              "LabelEncoder()"
            ]
          },
          "metadata": {},
          "execution_count": 15
        }
      ],
      "source": [
        "le.fit(train_df['target'])"
      ]
    },
    {
      "cell_type": "code",
      "execution_count": 16,
      "metadata": {
        "colab": {
          "base_uri": "https://localhost:8080/"
        },
        "id": "zTEYVW_gF18i",
        "outputId": "0e5fb5ae-1574-4569-9e79-23f987a18cf1"
      },
      "outputs": [
        {
          "output_type": "stream",
          "name": "stdout",
          "text": [
            "{'BACKGROUND': 0, 'CONCLUSIONS': 1, 'METHODS': 2, 'OBJECTIVE': 3, 'RESULTS': 4} {0: 'BACKGROUND', 1: 'CONCLUSIONS', 2: 'METHODS', 3: 'OBJECTIVE', 4: 'RESULTS'}\n"
          ]
        }
      ],
      "source": [
        "target_label_map = dict(zip(le.classes_,le.transform(le.classes_)))\n",
        "label_target_map = dict( [(val,key) for key,val in target_label_map.items()])\n",
        "print(target_label_map,label_target_map)"
      ]
    },
    {
      "cell_type": "code",
      "execution_count": 17,
      "metadata": {
        "colab": {
          "base_uri": "https://localhost:8080/"
        },
        "id": "wWrOyFVtY3US",
        "outputId": "8b698782-ae06-4308-f33e-b5cbeb323d6c"
      },
      "outputs": [
        {
          "output_type": "stream",
          "name": "stdout",
          "text": [
            "['BACKGROUND' 'CONCLUSIONS' 'METHODS' 'OBJECTIVE' 'RESULTS']\n"
          ]
        }
      ],
      "source": [
        "num_classes = len(le.classes_)\n",
        "class_names = le.classes_\n",
        "print(class_names)"
      ]
    },
    {
      "cell_type": "code",
      "execution_count": 18,
      "metadata": {
        "id": "oV3Yc2VDF4tR"
      },
      "outputs": [],
      "source": [
        "train_labels_encoded = le.transform(train_df['target'])\n",
        "test_labels_encoded = le.transform(test_df['target'])\n",
        "val_labels_encoded = le.transform(val_df['target'])"
      ]
    },
    {
      "cell_type": "code",
      "execution_count": 19,
      "metadata": {
        "id": "NqYZlDy8GiGe"
      },
      "outputs": [],
      "source": [
        "#one hot encoding\n",
        "import tensorflow as tf\n",
        "train_labels_one_hot = tf.one_hot(train_labels_encoded, depth = len(le.classes_))\n",
        "test_labels_one_hot = tf.one_hot(test_labels_encoded,depth=len(le.classes_))\n",
        "val_labels_one_hot = tf.one_hot(val_labels_encoded,depth=len(le.classes_))"
      ]
    },
    {
      "cell_type": "markdown",
      "metadata": {
        "id": "H7QYmJJqHEW9"
      },
      "source": [
        "# Model Experiments\n",
        "1. Baseline model: naive bayes with tf-idf vectorizer (according to sklearn model map)\n",
        "2.simple dense model (couple of dense layers, with count vectorizer and embedding layer\n",
        "3. LSTM and GRU model, with "
      ]
    },
    {
      "cell_type": "markdown",
      "metadata": {
        "id": "bT7z_uCfHFd2"
      },
      "source": [
        "## Model0: Naive Bayes Baseline"
      ]
    },
    {
      "cell_type": "code",
      "execution_count": 20,
      "metadata": {
        "id": "83LWviBfHOTu"
      },
      "outputs": [],
      "source": [
        "from sklearn.feature_extraction.text import TfidfVectorizer\n",
        "from sklearn.naive_bayes import MultinomialNB\n",
        "from sklearn.pipeline import Pipeline\n",
        "\n",
        "model_0 = Pipeline([(\"tf-idf\",TfidfVectorizer()),\n",
        "                    (\"Naive_Bayes\",MultinomialNB())])\n",
        "\n"
      ]
    },
    {
      "cell_type": "code",
      "execution_count": 21,
      "metadata": {
        "id": "Byo05GbeJRzn"
      },
      "outputs": [],
      "source": [
        "train_sentences = train_df['text'].tolist()\n",
        "test_sentences = test_df['text'].tolist()\n",
        "val_sentences = val_df['text'].tolist()"
      ]
    },
    {
      "cell_type": "code",
      "execution_count": 22,
      "metadata": {
        "colab": {
          "base_uri": "https://localhost:8080/"
        },
        "id": "Ei5nTiZUJpja",
        "outputId": "81b88525-1d70-4c92-9109-04b8b0bfe642"
      },
      "outputs": [
        {
          "output_type": "execute_result",
          "data": {
            "text/plain": [
              "Pipeline(steps=[('tf-idf', TfidfVectorizer()),\n",
              "                ('Naive_Bayes', MultinomialNB())])"
            ]
          },
          "metadata": {},
          "execution_count": 22
        }
      ],
      "source": [
        "model_0.fit(X=train_sentences,y=train_labels_encoded)"
      ]
    },
    {
      "cell_type": "code",
      "execution_count": 23,
      "metadata": {
        "colab": {
          "base_uri": "https://localhost:8080/"
        },
        "id": "yn_CzOmPJ16z",
        "outputId": "96b404d5-035c-48bc-94ab-6fcb5b74bd6c"
      },
      "outputs": [
        {
          "output_type": "execute_result",
          "data": {
            "text/plain": [
              "0.716674962667994"
            ]
          },
          "metadata": {},
          "execution_count": 23
        }
      ],
      "source": [
        "model_0.score(test_sentences,test_labels_encoded)"
      ]
    },
    {
      "cell_type": "code",
      "execution_count": 24,
      "metadata": {
        "id": "NOe01BW2K5DC"
      },
      "outputs": [],
      "source": [
        "from sklearn.metrics import accuracy_score, precision_score, recall_score, f1_score\n",
        "def calculate_results(y_pred,y_true):\n",
        "  acc = accuracy_score(y_true,y_pred)\n",
        "  recall = recall_score(y_true,y_pred,average='weighted')\n",
        "  precision = precision_score(y_true,y_pred,average='weighted')\n",
        "  f1 = f1_score(y_true,y_pred,average='weighted')\n",
        "\n",
        "  return {'accuracy':acc, \"recall\":recall,\"precision\":precision,\"f1_score\":f1}\n",
        "\n",
        "\n"
      ]
    },
    {
      "cell_type": "code",
      "execution_count": 25,
      "metadata": {
        "id": "C73aps6FLzCC"
      },
      "outputs": [],
      "source": [
        "model_0_preds = model_0.predict(val_sentences)\n",
        "model_0_results = calculate_results(model_0_preds,val_labels_encoded)\n"
      ]
    },
    {
      "cell_type": "code",
      "execution_count": 26,
      "metadata": {
        "id": "l7AsRJds_pME"
      },
      "outputs": [],
      "source": [
        "# list(map(lambda x: label_target_map[x],model_0_preds))"
      ]
    },
    {
      "cell_type": "code",
      "execution_count": 26,
      "metadata": {
        "id": "a9Ep7vS0L6-R"
      },
      "outputs": [],
      "source": [
        ""
      ]
    },
    {
      "cell_type": "markdown",
      "metadata": {
        "id": "qmykgubHOqYQ"
      },
      "source": [
        "## Model1:"
      ]
    },
    {
      "cell_type": "markdown",
      "metadata": {
        "id": "CdSSSP8F0Idt"
      },
      "source": [
        "### Text vectorization and Embedding layer\n"
      ]
    },
    {
      "cell_type": "code",
      "execution_count": 27,
      "metadata": {
        "colab": {
          "base_uri": "https://localhost:8080/"
        },
        "id": "T4M4WIY60N34",
        "outputId": "86fd9102-2fea-44d9-ecb3-8e025d0ae845"
      },
      "outputs": [
        {
          "output_type": "stream",
          "name": "stdout",
          "text": [
            "26.338269273494777\n"
          ]
        }
      ],
      "source": [
        "import numpy as np\n",
        "import matplotlib.pyplot as plt\n",
        "sent_lens = [len(sent.split()) for sent in train_sentences]\n",
        "avg_sent_len = np.mean(sent_lens)\n",
        "print(avg_sent_len)"
      ]
    },
    {
      "cell_type": "code",
      "execution_count": 28,
      "metadata": {
        "colab": {
          "base_uri": "https://localhost:8080/",
          "height": 525
        },
        "id": "wqTNwXXx0R7w",
        "outputId": "571f3fab-010d-4eba-af36-a8332ef0e686"
      },
      "outputs": [
        {
          "output_type": "execute_result",
          "data": {
            "text/plain": [
              "(array([1.6499e+04, 5.6664e+04, 5.2683e+04, 2.9050e+04, 1.3111e+04,\n",
              "        5.6610e+03, 3.0490e+03, 1.5190e+03, 8.0800e+02, 4.3200e+02,\n",
              "        2.2600e+02, 1.2800e+02, 7.7000e+01, 3.9000e+01, 3.0000e+01,\n",
              "        1.5000e+01, 9.0000e+00, 8.0000e+00, 4.0000e+00, 8.0000e+00,\n",
              "        7.0000e+00, 5.0000e+00, 1.0000e+00, 2.0000e+00, 3.0000e+00,\n",
              "        0.0000e+00, 0.0000e+00, 1.0000e+00, 0.0000e+00, 1.0000e+00]),\n",
              " array([  1.        ,  10.83333333,  20.66666667,  30.5       ,\n",
              "         40.33333333,  50.16666667,  60.        ,  69.83333333,\n",
              "         79.66666667,  89.5       ,  99.33333333, 109.16666667,\n",
              "        119.        , 128.83333333, 138.66666667, 148.5       ,\n",
              "        158.33333333, 168.16666667, 178.        , 187.83333333,\n",
              "        197.66666667, 207.5       , 217.33333333, 227.16666667,\n",
              "        237.        , 246.83333333, 256.66666667, 266.5       ,\n",
              "        276.33333333, 286.16666667, 296.        ]),\n",
              " <a list of 30 Patch objects>)"
            ]
          },
          "metadata": {},
          "execution_count": 28
        },
        {
          "output_type": "display_data",
          "data": {
            "text/plain": [
              "<Figure size 432x288 with 1 Axes>"
            ],
            "image/png": "[encoded data removed]"
          },
          "metadata": {
            "needs_background": "light"
          }
        }
      ],
      "source": [
        "plt.hist(sent_lens,bins=30)"
      ]
    },
    {
      "cell_type": "code",
      "execution_count": 29,
      "metadata": {
        "colab": {
          "base_uri": "https://localhost:8080/"
        },
        "id": "Xpz7uFml0o6C",
        "outputId": "f5efea66-f1c7-458a-fae2-c8e4ae4fbaf6"
      },
      "outputs": [
        {
          "output_type": "stream",
          "name": "stdout",
          "text": [
            "55\n"
          ]
        }
      ],
      "source": [
        "output_sequence_len = int(np.percentile(sent_lens,95))\n",
        "print(output_sequence_len)\n"
      ]
    },
    {
      "cell_type": "code",
      "execution_count": 30,
      "metadata": {
        "id": "KxgT9veLCXPD"
      },
      "outputs": [],
      "source": [
        "# unique_words = set(sum([i.split() for i in train_sentences],[]))\n",
        "# print('total unique words',len(unique_words))"
      ]
    },
    {
      "cell_type": "code",
      "execution_count": 31,
      "metadata": {
        "id": "QW8JWI6vCAOh"
      },
      "outputs": [],
      "source": [
        "vocab_size = 68000 # from the research paper.\n",
        "\n",
        "#text vectorixzation layer\n",
        "from tensorflow.keras.layers import TextVectorization\n",
        "\n",
        "text_vectorization = TextVectorization(max_tokens=vocab_size,output_mode='int', standardize='lower_and_strip_punctuation',output_sequence_length=output_sequence_len ) "
      ]
    },
    {
      "cell_type": "code",
      "execution_count": 32,
      "metadata": {
        "id": "FFcsPIeDAPTk"
      },
      "outputs": [],
      "source": [
        "text_vectorization.adapt(train_sentences)"
      ]
    },
    {
      "cell_type": "code",
      "execution_count": 33,
      "metadata": {
        "colab": {
          "base_uri": "https://localhost:8080/"
        },
        "id": "E57cjirTtaLd",
        "outputId": "d408770a-d6e1-494c-f3b5-75e6da6efa8b"
      },
      "outputs": [
        {
          "output_type": "stream",
          "name": "stdout",
          "text": [
            "Vocab Size:  64841\n",
            "20 Most Occuring words ['', '[UNK]', 'the', 'and', 'of', 'in', 'to', 'with', 'a', 'were', 'was', 'for', 'patients', 'group', 'p', 'at', 'or', 'study', 'on', 'treatment']\n",
            "20 least occuring words ['abandon', 'abaloparatideinduced', 'abagovomabinduced', 'abacus', 'abacopd', 'abacavirlamivudinezidovudine', 'ababa', 'aavsercaa', 'aats', 'aartselaar', 'aarm', 'aaqol', 'aaq', 'aanhui', 'aana', 'aainduced', 'aaigroup', 'aachener', 'aachen', 'aaacp']\n"
          ]
        }
      ],
      "source": [
        "train_vocab = text_vectorization.get_vocabulary()\n",
        "print(\"Vocab Size: \",len(train_vocab))\n",
        "print(\"20 Most Occuring words\",train_vocab[:20])\n",
        "print('20 least occuring words',train_vocab[-20:])"
      ]
    },
    {
      "cell_type": "code",
      "execution_count": 34,
      "metadata": {
        "id": "5fm-iYHKpeEX"
      },
      "outputs": [],
      "source": [
        "#embedding layer\n",
        "embedding_layer = tf.keras.layers.Embedding(input_dim=vocab_size,output_dim = 128,input_length=output_sequence_len)\n"
      ]
    },
    {
      "cell_type": "code",
      "execution_count": 35,
      "metadata": {
        "id": "qfSo3O0CtZXb"
      },
      "outputs": [],
      "source": [
        "#architecture= preprocessing, textvectorization, embeeding layer(output will be (batch,len, embedding)), global average pooling to get sentence feature, than dense model\n",
        "\n",
        "input_layer = tf.keras.layers.Input(shape=(1,),dtype='string')\n",
        "text_vector = text_vectorization(input_layer)\n",
        "embedding_output = embedding_layer(text_vector)\n",
        "x = tf.keras.layers.Conv1D(filters=64,kernel_size=5,padding='same',activation='relu')(embedding_output)\n",
        "x = tf.keras.layers.GlobalAveragePooling1D()(x)\n",
        "outputs = tf.keras.layers.Dense(num_classes,activation='softmax')(x)\n",
        "\n",
        "\n",
        "\n",
        "model_1 = tf.keras.Model(input_layer,outputs)\n",
        "\n",
        "model_1.compile(loss=tf.keras.losses.CategoricalCrossentropy(),\n",
        "                optimizer=tf.keras.optimizers.Adam(),\n",
        "                metrics=['accuracy'])"
      ]
    },
    {
      "cell_type": "code",
      "execution_count": 36,
      "metadata": {
        "colab": {
          "base_uri": "https://localhost:8080/"
        },
        "id": "wfwRXaPgXJqz",
        "outputId": "c6a2a217-5cfb-4b83-f4f2-a04e52bfdde3"
      },
      "outputs": [
        {
          "output_type": "stream",
          "name": "stdout",
          "text": [
            "Model: \"model\"\n",
            "_________________________________________________________________\n",
            " Layer (type)                Output Shape              Param #   \n",
            "=================================================================\n",
            " input_1 (InputLayer)        [(None, 1)]               0         \n",
            "                                                                 \n",
            " text_vectorization (TextVec  (None, 55)               0         \n",
            " torization)                                                     \n",
            "                                                                 \n",
            " embedding (Embedding)       (None, 55, 128)           8704000   \n",
            "                                                                 \n",
            " conv1d (Conv1D)             (None, 55, 64)            41024     \n",
            "                                                                 \n",
            " global_average_pooling1d (G  (None, 64)               0         \n",
            " lobalAveragePooling1D)                                          \n",
            "                                                                 \n",
            " dense (Dense)               (None, 5)                 325       \n",
            "                                                                 \n",
            "=================================================================\n",
            "Total params: 8,745,349\n",
            "Trainable params: 8,745,349\n",
            "Non-trainable params: 0\n",
            "_________________________________________________________________\n"
          ]
        }
      ],
      "source": [
        "model_1.summary()"
      ]
    },
    {
      "cell_type": "code",
      "execution_count": 37,
      "metadata": {
        "id": "VZyJ4PmnXhb8"
      },
      "outputs": [],
      "source": [
        "# creating datasets\n",
        "train_dataset = tf.data.Dataset.from_tensor_slices((train_sentences,train_labels_one_hot))\n",
        "test_dataset = tf.data.Dataset.from_tensor_slices((test_sentences,test_labels_one_hot))\n",
        "val_dataset = tf.data.Dataset.from_tensor_slices((val_sentences,val_labels_one_hot))"
      ]
    },
    {
      "cell_type": "code",
      "execution_count": 38,
      "metadata": {
        "colab": {
          "base_uri": "https://localhost:8080/"
        },
        "id": "4d7z83RxXm1W",
        "outputId": "2d40ff61-b71c-4157-95ef-42681458ad38"
      },
      "outputs": [
        {
          "output_type": "stream",
          "name": "stdout",
          "text": [
            "() (5,)\n",
            "tf.Tensor(b'To investigate the efficacy of @ weeks of daily low-dose oral prednisolone in improving pain , mobility , and systemic low-grade inflammation in the short term and whether the effect would be sustained at @ weeks in older adults with moderate to severe knee osteoarthritis ( OA ) .', shape=(), dtype=string) tf.Tensor([0. 0. 0. 1. 0.], shape=(5,), dtype=float32)\n"
          ]
        }
      ],
      "source": [
        "#looking at iterable dataset object\n",
        "for sent,label in train_dataset:\n",
        "  print(sent.shape,label.shape)\n",
        "  print(sent,label)\n",
        "  break"
      ]
    },
    {
      "cell_type": "code",
      "execution_count": 39,
      "metadata": {
        "id": "2nMS6pS-p63g"
      },
      "outputs": [],
      "source": [
        "#applying batch and prefetch transformations to our dataset\n",
        "train_dataset = train_dataset.batch(32).prefetch(tf.data.AUTOTUNE)\n",
        "test_dataset = test_dataset.batch(32).prefetch(tf.data.AUTOTUNE)\n",
        "val_dataset = val_dataset.batch(32).prefetch(tf.data.AUTOTUNE)"
      ]
    },
    {
      "cell_type": "code",
      "execution_count": 40,
      "metadata": {
        "id": "r021KLc4uyy_"
      },
      "outputs": [],
      "source": [
        "import os\n",
        "import datetime\n",
        "def create_tensorboard_callback(log_dir,experiment_name):\n",
        "\n",
        "  experiment_log_dir = os.path.join(log_dir,experiment_name,datetime.datetime.now().strftime(\"%Y%m%d-%H%M%S\"))\n",
        "  callback = tf.keras.callbacks.TensorBoard(experiment_log_dir)\n",
        "  print(\"Saving tensorboard logs at: \",experiment_log_dir)\n",
        "  return callback"
      ]
    },
    {
      "cell_type": "code",
      "execution_count": 41,
      "metadata": {
        "colab": {
          "base_uri": "https://localhost:8080/"
        },
        "id": "oAwcw8z2OTFz",
        "outputId": "b630de69-f004-4390-f1c5-d987ad856102"
      },
      "outputs": [
        {
          "output_type": "execute_result",
          "data": {
            "text/plain": [
              "keras.callbacks.TensorBoard"
            ]
          },
          "metadata": {},
          "execution_count": 41
        }
      ],
      "source": [
        "tf.keras.callbacks.TensorBoard"
      ]
    },
    {
      "cell_type": "code",
      "execution_count": 42,
      "metadata": {
        "colab": {
          "base_uri": "https://localhost:8080/"
        },
        "id": "d_JZs9CPuLE8",
        "outputId": "b72fb723-d5d6-43b7-d94d-b8c324e00080"
      },
      "outputs": [
        {
          "output_type": "stream",
          "name": "stdout",
          "text": [
            "Saving tensorboard logs at:  /content/log_dir/Model_1_Conv1D/20220417-144156\n",
            "Epoch 1/5\n",
            "562/562 [==============================] - 15s 9ms/step - loss: 0.9078 - accuracy: 0.6427 - val_loss: 0.6796 - val_accuracy: 0.7387\n",
            "Epoch 2/5\n",
            "562/562 [==============================] - 5s 9ms/step - loss: 0.6586 - accuracy: 0.7567 - val_loss: 0.6322 - val_accuracy: 0.7716\n",
            "Epoch 3/5\n",
            "562/562 [==============================] - 5s 9ms/step - loss: 0.6204 - accuracy: 0.7731 - val_loss: 0.5990 - val_accuracy: 0.7839\n",
            "Epoch 4/5\n",
            "562/562 [==============================] - 5s 9ms/step - loss: 0.5909 - accuracy: 0.7875 - val_loss: 0.5798 - val_accuracy: 0.7856\n",
            "Epoch 5/5\n",
            "562/562 [==============================] - 5s 9ms/step - loss: 0.5902 - accuracy: 0.7924 - val_loss: 0.5615 - val_accuracy: 0.7989\n"
          ]
        },
        {
          "output_type": "execute_result",
          "data": {
            "text/plain": [
              "<keras.callbacks.History at 0x7fddfae6f890>"
            ]
          },
          "metadata": {},
          "execution_count": 42
        }
      ],
      "source": [
        "#training model1\n",
        "\n",
        "model_1.fit(train_dataset,\n",
        "            epochs=5,\n",
        "            steps_per_epoch = int(0.1 * len(train_dataset)),\n",
        "            validation_data=val_dataset,\n",
        "            validation_steps = int(0.1*len(val_dataset)),\n",
        "            callbacks = [create_tensorboard_callback('/content/log_dir',\"Model_1_Conv1D\")]\n",
        "\n",
        "            )"
      ]
    },
    {
      "cell_type": "code",
      "execution_count": 43,
      "metadata": {
        "id": "ga7qV8duPzmr"
      },
      "outputs": [],
      "source": [
        "from sklearn.metrics import accuracy_score, precision_recall_fscore_support\n",
        "\n",
        "def calculate_results(y_true,y_pred):\n",
        "  \"\"\"Function to calcualte classification metrics for given ground truth and predicted values\n",
        "  Args:\n",
        "    y_true: Ground Truth vector containing ground truth labels\n",
        "    y_pred: Predicted value containing labels\n",
        "  Returns:\n",
        "    result: dict containing accuracy, recall, precision and f1-score\n",
        "    \"\"\"\n",
        "\n",
        "  acc = accuracy_score(y_true,y_pred)\n",
        "  model_precision, model_recall, model_f1_score,_ = precision_recall_fscore_support(y_true,y_pred,average='weighted')\n",
        "  \n",
        "\n",
        "  return {'accuracy':acc,'recall':model_precision,'precision':model_precision,'f1-score':model_f1_score}"
      ]
    },
    {
      "cell_type": "code",
      "execution_count": 44,
      "metadata": {
        "id": "2QZkKJI5g4ib"
      },
      "outputs": [],
      "source": [
        "model_1_pred_prob = model_1.predict(test_sentences)"
      ]
    },
    {
      "cell_type": "code",
      "execution_count": 45,
      "metadata": {
        "id": "gQMIVsX_g5iq"
      },
      "outputs": [],
      "source": [
        "model_1_preds = tf.argmax(model_1_pred_prob,axis=1)\n",
        "model_1_results = calculate_results(test_labels_encoded,model_1_preds)"
      ]
    },
    {
      "cell_type": "code",
      "execution_count": 46,
      "metadata": {
        "colab": {
          "base_uri": "https://localhost:8080/"
        },
        "id": "yFrdGYOjidtP",
        "outputId": "227587bb-eba3-4577-ef2a-f2311aaca90b"
      },
      "outputs": [
        {
          "output_type": "stream",
          "name": "stdout",
          "text": [
            "{'accuracy': 0.795486975277916, 'recall': 0.794270682174887, 'precision': 0.794270682174887, 'f1-score': 0.7923619895785801}\n"
          ]
        }
      ],
      "source": [
        "print(model_1_results)"
      ]
    },
    {
      "cell_type": "code",
      "execution_count": 47,
      "metadata": {
        "colab": {
          "base_uri": "https://localhost:8080/"
        },
        "id": "zh3S-975jAqB",
        "outputId": "a96cd370-013a-4cdb-8e99-a9554df412f1"
      },
      "outputs": [
        {
          "output_type": "stream",
          "name": "stdout",
          "text": [
            "945/945 [==============================] - 3s 3ms/step - loss: 0.5606 - accuracy: 0.8007\n",
            "[0.5606052279472351, 0.80074143409729]\n"
          ]
        }
      ],
      "source": [
        "#evaluate the model on entire val dataset\n",
        "print(model_1.evaluate(val_dataset))"
      ]
    },
    {
      "cell_type": "markdown",
      "metadata": {
        "id": "N6eUpUkwjIkP"
      },
      "source": [
        "## Model2 : tf hub universal sentence encoder\n"
      ]
    },
    {
      "cell_type": "code",
      "execution_count": 48,
      "metadata": {
        "id": "GErGWsv_lW7n"
      },
      "outputs": [],
      "source": [
        "import tensorflow_hub as hub\n",
        "\n",
        "embed = hub.KerasLayer(\"https://tfhub.dev/google/universal-sentence-encoder/4\",trainable=False,name='universal_sent_encoder_embedding')"
      ]
    },
    {
      "cell_type": "code",
      "execution_count": 49,
      "metadata": {
        "colab": {
          "base_uri": "https://localhost:8080/"
        },
        "id": "S0en0blIlXWF",
        "outputId": "d7ac92e5-b936-4eab-ae34-3464c65a1f8e"
      },
      "outputs": [
        {
          "output_type": "execute_result",
          "data": {
            "text/plain": [
              "tensorflow_hub.keras_layer.KerasLayer"
            ]
          },
          "metadata": {},
          "execution_count": 49
        }
      ],
      "source": [
        "type(embed)"
      ]
    },
    {
      "cell_type": "code",
      "execution_count": 50,
      "metadata": {
        "colab": {
          "base_uri": "https://localhost:8080/"
        },
        "id": "GWKkP-t0laWJ",
        "outputId": "95664ec4-a791-4cf8-baf5-8e6f8fc12a79"
      },
      "outputs": [
        {
          "output_type": "stream",
          "name": "stdout",
          "text": [
            "sentence:  Asthma is often poorly controlled .\n",
            "Embed Output shape:  (1, 512)\n"
          ]
        }
      ],
      "source": [
        "import random\n",
        "#visualingin embed output\n",
        "random_sentence = random.choice(train_sentences)\n",
        "embed_output = embed([random_sentence])\n",
        "print(\"sentence: \",random_sentence)\n",
        "print(\"Embed Output shape: \",embed_output.shape)"
      ]
    },
    {
      "cell_type": "code",
      "execution_count": 51,
      "metadata": {
        "id": "-dwxki7_l-pA"
      },
      "outputs": [],
      "source": [
        "#creating the model\n",
        "\n",
        "input_layer = tf.keras.layers.Input(shape=[],name='Input_Layer',dtype='string')\n",
        "embed_output = embed(input_layer)\n",
        "x = tf.keras.layers.Dense(128,activation='relu')(embed_output)\n",
        "output_layer = tf.keras.layers.Dense(num_classes,activation='softmax',name='output_dense_layer')(x)\n",
        "\n",
        "model_2 = tf.keras.Model(input_layer,output_layer)"
      ]
    },
    {
      "cell_type": "code",
      "execution_count": 52,
      "metadata": {
        "colab": {
          "base_uri": "https://localhost:8080/"
        },
        "id": "IpEgz1EpmrNu",
        "outputId": "48f9b64d-a5ee-4271-cf01-df32df63d5e4"
      },
      "outputs": [
        {
          "output_type": "stream",
          "name": "stdout",
          "text": [
            "Model: \"model_1\"\n",
            "_________________________________________________________________\n",
            " Layer (type)                Output Shape              Param #   \n",
            "=================================================================\n",
            " Input_Layer (InputLayer)    [(None,)]                 0         \n",
            "                                                                 \n",
            " universal_sent_encoder_embe  (None, 512)              256797824 \n",
            " dding (KerasLayer)                                              \n",
            "                                                                 \n",
            " dense_1 (Dense)             (None, 128)               65664     \n",
            "                                                                 \n",
            " output_dense_layer (Dense)  (None, 5)                 645       \n",
            "                                                                 \n",
            "=================================================================\n",
            "Total params: 256,864,133\n",
            "Trainable params: 66,309\n",
            "Non-trainable params: 256,797,824\n",
            "_________________________________________________________________\n"
          ]
        }
      ],
      "source": [
        "model_2.summary()"
      ]
    },
    {
      "cell_type": "code",
      "execution_count": 53,
      "metadata": {
        "id": "3C0x-p7Zno8g"
      },
      "outputs": [],
      "source": [
        "model_2.compile(loss=tf.keras.losses.CategoricalCrossentropy(),\n",
        "                optimizer=tf.keras.optimizers.Adam(),\n",
        "                metrics=['accuracy'])"
      ]
    },
    {
      "cell_type": "code",
      "execution_count": 54,
      "metadata": {
        "colab": {
          "base_uri": "https://localhost:8080/"
        },
        "id": "SQRoGTv4m_nw",
        "outputId": "09b194db-a8bc-4216-9511-9a1ef5465dcb"
      },
      "outputs": [
        {
          "output_type": "stream",
          "name": "stdout",
          "text": [
            "Saving tensorboard logs at:  /content/log_dir/Model_2_USE/20220417-144258\n",
            "Epoch 1/5\n",
            "562/562 [==============================] - 10s 13ms/step - loss: 0.9172 - accuracy: 0.6512 - val_loss: 0.7957 - val_accuracy: 0.6898\n",
            "Epoch 2/5\n",
            "562/562 [==============================] - 7s 13ms/step - loss: 0.7678 - accuracy: 0.7020 - val_loss: 0.7523 - val_accuracy: 0.7068\n",
            "Epoch 3/5\n",
            "562/562 [==============================] - 7s 13ms/step - loss: 0.7508 - accuracy: 0.7126 - val_loss: 0.7363 - val_accuracy: 0.7118\n",
            "Epoch 4/5\n",
            "562/562 [==============================] - 7s 12ms/step - loss: 0.7169 - accuracy: 0.7248 - val_loss: 0.7091 - val_accuracy: 0.7320\n",
            "Epoch 5/5\n",
            "562/562 [==============================] - 7s 12ms/step - loss: 0.7257 - accuracy: 0.7213 - val_loss: 0.6895 - val_accuracy: 0.7350\n"
          ]
        },
        {
          "output_type": "execute_result",
          "data": {
            "text/plain": [
              "<keras.callbacks.History at 0x7fddf62dc510>"
            ]
          },
          "metadata": {},
          "execution_count": 54
        }
      ],
      "source": [
        "model_2.fit(train_dataset,\n",
        "            steps_per_epoch=int(0.1*len(train_dataset)),\n",
        "            epochs = 5,\n",
        "            validation_data=val_dataset,\n",
        "            validation_steps = int(0.1*len(val_dataset)),\n",
        "            callbacks = [create_tensorboard_callback(\"/content/log_dir\",\"Model_2_USE\")])"
      ]
    },
    {
      "cell_type": "code",
      "execution_count": 55,
      "metadata": {
        "id": "fbnQ3Ixmnk0X",
        "colab": {
          "base_uri": "https://localhost:8080/"
        },
        "outputId": "54fa8df5-760d-4892-d925-0bedfa4575b9"
      },
      "outputs": [
        {
          "output_type": "stream",
          "name": "stdout",
          "text": [
            "945/945 [==============================] - 10s 10ms/step - loss: 0.6986 - accuracy: 0.7346\n"
          ]
        },
        {
          "output_type": "execute_result",
          "data": {
            "text/plain": [
              "[0.6986215114593506, 0.7346418499946594]"
            ]
          },
          "metadata": {},
          "execution_count": 55
        }
      ],
      "source": [
        "#model 2 evaluation\n",
        "model_2.evaluate(val_dataset)"
      ]
    },
    {
      "cell_type": "code",
      "execution_count": 56,
      "metadata": {
        "id": "z3zLdwBOoDgw"
      },
      "outputs": [],
      "source": [
        "#model2 results\n",
        "model_2_pred_probs = model_2.predict(test_sentences)\n",
        "model_2_preds = tf.argmax(model_2_pred_probs,axis=1)\n",
        "model_2_results = calculate_results(model_2_preds,test_labels_encoded)\n"
      ]
    },
    {
      "cell_type": "code",
      "execution_count": 57,
      "metadata": {
        "id": "XNQ9wni7oRQM",
        "colab": {
          "base_uri": "https://localhost:8080/"
        },
        "outputId": "fab50ffc-cec2-47fe-b89f-71984917d3e6"
      },
      "outputs": [
        {
          "output_type": "stream",
          "name": "stdout",
          "text": [
            "{'accuracy': 0.7267960842873735, 'recall': 0.7445109334992009, 'precision': 0.7445109334992009, 'f1-score': 0.7322399030091866}\n"
          ]
        }
      ],
      "source": [
        "print(model_2_results)"
      ]
    },
    {
      "cell_type": "markdown",
      "metadata": {
        "id": "vM4mCpFMESla"
      },
      "source": [
        "## Model 3: Conv1D with character level embeddings\n",
        "In word level embeddings we represent \"words\" with numerical vectors, but in character level embedding each \"character\" of the \"word\" gets converted into numerical vectors.\n",
        ",,,,,,,,,,,,,,,,,,,,,,,,,,,,,,,,,,,,,,,,,,,,,,,,,,,,,,,,,,,,,,,,,,,,,,,,,,,,,,,,\n",
        "ex. [i love tensorflow] -> [feature vector of every word]\n",
        "[l l o v e t e n s o r f l o w] -> [feature vector of every character]"
      ]
    },
    {
      "cell_type": "code",
      "execution_count": 58,
      "metadata": {
        "colab": {
          "base_uri": "https://localhost:8080/",
          "height": 36
        },
        "id": "STI7PjsdM3CU",
        "outputId": "b09f56b9-3c2b-4e6f-ec1f-cb25609cd6c6"
      },
      "outputs": [
        {
          "output_type": "execute_result",
          "data": {
            "text/plain": [
              "'A s t h m a   i s   o f t e n   p o o r l y   c o n t r o l l e d   .'"
            ],
            "application/vnd.google.colaboratory.intrinsic+json": {
              "type": "string"
            }
          },
          "metadata": {},
          "execution_count": 58
        }
      ],
      "source": [
        "def split_chars(text):\n",
        "\n",
        "  return \" \".join(list(text))\n",
        "\n",
        "split_chars(random_sentence)"
      ]
    },
    {
      "cell_type": "code",
      "execution_count": 59,
      "metadata": {
        "id": "VZFs1V8PHkXb"
      },
      "outputs": [],
      "source": [
        "train_chars = [split_chars(sent) for sent in train_sentences]\n",
        "test_chars = [split_chars(sent) for sent in test_sentences]\n",
        "val_chars = [split_chars(sent) for sent in val_sentences]\n"
      ]
    },
    {
      "cell_type": "code",
      "execution_count": 60,
      "metadata": {
        "colab": {
          "base_uri": "https://localhost:8080/"
        },
        "id": "hxGONX30FHUM",
        "outputId": "89fc26ed-2da5-4449-9ab1-f308f81aca5f"
      },
      "outputs": [
        {
          "output_type": "stream",
          "name": "stdout",
          "text": [
            "Mean len chars:  149.3662574983337\n"
          ]
        }
      ],
      "source": [
        "len_chars = [len(sent) for sent in train_sentences]\n",
        "print(\"Mean len chars: \",np.mean(len_chars))"
      ]
    },
    {
      "cell_type": "code",
      "execution_count": 61,
      "metadata": {
        "colab": {
          "base_uri": "https://localhost:8080/",
          "height": 265
        },
        "id": "5gSYIewdFifZ",
        "outputId": "63baf08b-d9cf-46fe-fc86-4d4e8d143f95"
      },
      "outputs": [
        {
          "output_type": "display_data",
          "data": {
            "text/plain": [
              "<Figure size 432x288 with 1 Axes>"
            ],
            "image/png": "[encoded data removed]"
          },
          "metadata": {
            "needs_background": "light"
          }
        }
      ],
      "source": [
        "#distribution of our sequence at char level\n",
        "import matplotlib.pyplot as plt\n",
        "plt.hist(len_chars,bins=10);"
      ]
    },
    {
      "cell_type": "code",
      "execution_count": 62,
      "metadata": {
        "colab": {
          "base_uri": "https://localhost:8080/"
        },
        "id": "WS8tSB_LFzt_",
        "outputId": "e74306fd-4ffe-45a9-9755-e19cd48260d2"
      },
      "outputs": [
        {
          "output_type": "stream",
          "name": "stdout",
          "text": [
            "95th percentile of char len 290.0\n"
          ]
        }
      ],
      "source": [
        "output_seq_char_len = np.percentile(len_chars,95)\n",
        "print('95th percentile of char len',output_seq_char_len)"
      ]
    },
    {
      "cell_type": "code",
      "execution_count": 63,
      "metadata": {
        "id": "87MkxhlAGBo_"
      },
      "outputs": [],
      "source": [
        "#total unique characters in our vocab\n",
        "# path1 - find all unique chars in our train sentences\n",
        "# path2 - all possible characters in eng language (all the ones present on keyboard\n",
        "\n",
        "import string\n",
        "char_vocab = string.ascii_lowercase + string.digits + string.punctuation\n",
        "NUM_CHAR_TOKENS = len(char_vocab) + 2 # adding 2 for \" \" and \"UNK\" (space and OOV or unknown tokens)\n"
      ]
    },
    {
      "cell_type": "code",
      "execution_count": 64,
      "metadata": {
        "id": "tSbB8ZgJHMfY"
      },
      "outputs": [],
      "source": [
        "char_tokenizer = tf.keras.layers.TextVectorization(max_tokens=NUM_CHAR_TOKENS,\n",
        "\n",
        " output_sequence_length=int(output_seq_char_len))"
      ]
    },
    {
      "cell_type": "code",
      "execution_count": 65,
      "metadata": {
        "id": "o2mHolRdK9MF"
      },
      "outputs": [],
      "source": [
        "char_tokenizer.adapt(train_chars)"
      ]
    },
    {
      "cell_type": "code",
      "execution_count": 66,
      "metadata": {
        "colab": {
          "base_uri": "https://localhost:8080/"
        },
        "id": "lxCIgrcCHN97",
        "outputId": "16f84f96-19bd-4e29-8095-22fb68cba460"
      },
      "outputs": [
        {
          "output_type": "stream",
          "name": "stdout",
          "text": [
            "I n   t h i s   p i l o t   s t u d y   ,   t h e r e   w a s   s u f f i c i e n t   e v i d e n c e   t h a t   s t i m u l a n t s   m a y   b e   u s e f u l   i n   m a n a g e m e n t   o f   b e h a v i o r a l   a n d   c o g n i t i v e   s e q u e l a e   f o l l o w i n g   T B I   ,   t o   w a r r a n t   a   l a r g e r   t r i a l   .\n",
            "tf.Tensor(\n",
            "[[ 4  6  3 13  4  9 14  4 12  7  3  9  3 16 10 19  3 13  2  8  2 20  5  9\n",
            "   9 16 17 17  4 11  4  2  6  3  2 21  4 10  2  6 11  2  3 13  5  3  9  3\n",
            "   4 15 16 12  5  6  3  9 15  5 19 22  2 16  9  2 17 16 12  4  6 15  5  6\n",
            "   5 18  2 15  2  6  3  7 17 22  2 13  5 21  4  7  8  5 12  5  6 10 11  7\n",
            "  18  6  4  3  4 21  2  9  2 26 16  2 12  5  2 17  7 12 12  7 20  4  6 18\n",
            "   3 22  4  3  7 20  5  8  8  5  6  3  5 12  5  8 18  2  8  3  8  4  5 12\n",
            "   0  0  0  0  0  0  0  0  0  0  0  0  0  0  0  0  0  0  0  0  0  0  0  0\n",
            "   0  0  0  0  0  0  0  0  0  0  0  0  0  0  0  0  0  0  0  0  0  0  0  0\n",
            "   0  0  0  0  0  0  0  0  0  0  0  0  0  0  0  0  0  0  0  0  0  0  0  0\n",
            "   0  0  0  0  0  0  0  0  0  0  0  0  0  0  0  0  0  0  0  0  0  0  0  0\n",
            "   0  0  0  0  0  0  0  0  0  0  0  0  0  0  0  0  0  0  0  0  0  0  0  0\n",
            "   0  0  0  0  0  0  0  0  0  0  0  0  0  0  0  0  0  0  0  0  0  0  0  0\n",
            "   0  0]], shape=(1, 290), dtype=int64)\n"
          ]
        }
      ],
      "source": [
        "random_char = random.choice(train_chars)\n",
        "print(random_char)\n",
        "print(char_tokenizer([random_char]))"
      ]
    },
    {
      "cell_type": "code",
      "execution_count": 67,
      "metadata": {
        "colab": {
          "base_uri": "https://localhost:8080/"
        },
        "id": "uc7cvv_ta6OR",
        "outputId": "3bac0a5b-7a76-4b5c-df1e-138fb8048731"
      },
      "outputs": [
        {
          "output_type": "stream",
          "name": "stdout",
          "text": [
            "Char vocab size:  28\n"
          ]
        }
      ],
      "source": [
        "char_vocab = char_tokenizer.get_vocabulary()\n",
        "print(\"Char vocab size: \",len(char_vocab))"
      ]
    },
    {
      "cell_type": "code",
      "execution_count": 68,
      "metadata": {
        "id": "v5g38eugKx8p"
      },
      "outputs": [],
      "source": [
        "#making character level embedding\n",
        "char_embed = tf.keras.layers.Embedding(input_dim = len(char_vocab), output_dim=25, #got this number from rct paper\n",
        "                                 input_length = output_seq_char_len, name='char_embed',mask_zero=True        )"
      ]
    },
    {
      "cell_type": "code",
      "execution_count": 69,
      "metadata": {
        "colab": {
          "base_uri": "https://localhost:8080/"
        },
        "id": "hvsAQ8lobsC_",
        "outputId": "2dcb0ec0-097d-407d-c206-8a2710a232ca"
      },
      "outputs": [
        {
          "output_type": "stream",
          "name": "stdout",
          "text": [
            "Origin char level sent\n",
            "S u b j e c t s   a l s o   s h o w e d   g r e a t e r   i m p a i r m e n t   w h e n   s c o r e s   o b t a i n e d   i n   t h e   @ , @ - f t   c o n d i t i o n   w e r e   c o m p a r e d   t o   b a s e l i n e   ,   a l t h o u g h   t h e   e f f e c t s   w e r e   n o t   a s   c l e a r l y   d e f i n e d   r e l a t i v e   t o   t h e   @ , @   v s .   b a s e l i n e   c o n t r a s t s   .\n",
            "Sent after tokenization: \n",
            "tf.Tensor(\n",
            "[[ 9 16 22 27  2 11  3  9  5 12  9  7  9 13  7 20  2 10 18  8  2  5  3  2\n",
            "   8  4 15 14  5  4  8 15  2  6  3 20 13  2  6  9 11  7  8  2  9  7 22  3\n",
            "   5  4  6  2 10  4  6  3 13  2 17  3 11  7  6 10  4  3  4  7  6 20  2  8\n",
            "   2 11  7 15 14  5  8  2 10  3  7 22  5  9  2 12  4  6  2  5 12  3 13  7\n",
            "  16 18 13  3 13  2  2 17 17  2 11  3  9 20  2  8  2  6  7  3  5  9 11 12\n",
            "   2  5  8 12 19 10  2 17  4  6  2 10  8  2 12  5  3  4 21  2  3  7  3 13\n",
            "   2 21  9 22  5  9  2 12  4  6  2 11  7  6  3  8  5  9  3  9  0  0  0  0\n",
            "   0  0  0  0  0  0  0  0  0  0  0  0  0  0  0  0  0  0  0  0  0  0  0  0\n",
            "   0  0  0  0  0  0  0  0  0  0  0  0  0  0  0  0  0  0  0  0  0  0  0  0\n",
            "   0  0  0  0  0  0  0  0  0  0  0  0  0  0  0  0  0  0  0  0  0  0  0  0\n",
            "   0  0  0  0  0  0  0  0  0  0  0  0  0  0  0  0  0  0  0  0  0  0  0  0\n",
            "   0  0  0  0  0  0  0  0  0  0  0  0  0  0  0  0  0  0  0  0  0  0  0  0\n",
            "   0  0]], shape=(1, 290), dtype=int64)\n",
            "Shape: \n",
            "(1, 290)\n",
            "Embed Output:  tf.Tensor(\n",
            "[[[ 0.02193828  0.04121074 -0.03808832 ...  0.03277409 -0.02872281\n",
            "    0.02657275]\n",
            "  [-0.02738038  0.00261398 -0.02274879 ...  0.00464209  0.03770437\n",
            "   -0.00456287]\n",
            "  [-0.04785293 -0.01205987  0.04787084 ...  0.01863473 -0.01819297\n",
            "   -0.02007072]\n",
            "  ...\n",
            "  [-0.02085378  0.0036409   0.0121672  ... -0.04054308 -0.03547796\n",
            "   -0.03666682]\n",
            "  [-0.02085378  0.0036409   0.0121672  ... -0.04054308 -0.03547796\n",
            "   -0.03666682]\n",
            "  [-0.02085378  0.0036409   0.0121672  ... -0.04054308 -0.03547796\n",
            "   -0.03666682]]], shape=(1, 290, 25), dtype=float32) Embed OUput shape:  (1, 290, 25)\n"
          ]
        }
      ],
      "source": [
        "random_char_sent = random.choice(train_chars)\n",
        "print(\"Origin char level sent\",random_char_sent,sep=\"\\n\")\n",
        "tokenized_char_sent = char_tokenizer([random_char_sent])\n",
        "print(\"Sent after tokenization: \",tokenized_char_sent,\"Shape: \",tokenized_char_sent.shape,sep='\\n')\n",
        "embed_char_sent = char_embed(tokenized_char_sent)\n",
        "print(\"Embed Output: \",embed_char_sent,'Embed OUput shape: ',embed_char_sent.shape)"
      ]
    },
    {
      "cell_type": "code",
      "execution_count": 70,
      "metadata": {
        "id": "N5CBlrpadYV2"
      },
      "outputs": [],
      "source": [
        "#we need to create char datasets\n",
        "train_char_dataset = tf.data.Dataset.from_tensor_slices((train_chars,train_labels_one_hot)).batch(32).prefetch(tf.data.AUTOTUNE)\n",
        "val_char_dataset = tf.data.Dataset.from_tensor_slices((val_chars,val_labels_one_hot)).batch(32).prefetch(tf.data.AUTOTUNE)\n",
        "test_char_dataset = tf.data.Dataset.from_tensor_slices((test_chars,test_labels_one_hot)).batch(32).prefetch(tf.data.AUTOTUNE)"
      ]
    },
    {
      "cell_type": "code",
      "execution_count": 71,
      "metadata": {
        "id": "Y-WkwfnycXCB"
      },
      "outputs": [],
      "source": [
        "#model3 \n",
        "\n",
        "input_layer = tf.keras.layers.Input(shape=(1,),dtype='string')\n",
        "char_token_output = char_tokenizer(input_layer)\n",
        "char_embed_output = char_embed(char_token_output)\n",
        "conv_layer = tf.keras.layers.Conv1D(64,kernel_size=3,activation='relu',padding='same')(char_embed_output)\n",
        "pooling_output = tf.keras.layers.GlobalAveragePooling1D()(conv_layer)\n",
        "#fc layers\n",
        "x = tf.keras.layers.Dense(128,activation='relu')(pooling_output)\n",
        "output_layer = tf.keras.layers.Dense(num_classes,activation='softmax',name='output_layer')(x)\n",
        "\n",
        "\n",
        "model_3 = tf.keras.Model(input_layer,output_layer)\n",
        "\n",
        "#compiling the model\n",
        "model_3.compile(loss=tf.keras.losses.CategoricalCrossentropy(),\n",
        "                optimizer=tf.keras.optimizers.Adam(),\n",
        "                metrics=['acc'])"
      ]
    },
    {
      "cell_type": "code",
      "execution_count": 71,
      "metadata": {
        "id": "FG7Rj9UQiV2y"
      },
      "outputs": [],
      "source": [
        ""
      ]
    },
    {
      "cell_type": "code",
      "execution_count": 72,
      "metadata": {
        "colab": {
          "base_uri": "https://localhost:8080/"
        },
        "id": "OdX0n0z_dq5R",
        "outputId": "b9dfcff5-c9f4-412f-b8c9-5989dce447e3"
      },
      "outputs": [
        {
          "output_type": "stream",
          "name": "stdout",
          "text": [
            "Saving tensorboard logs at:  /content/log_dir/conv1d_with_char_level_embed/20220417-144425\n",
            "Epoch 1/5\n",
            "5627/5627 [==============================] - 29s 5ms/step - loss: 1.2821 - acc: 0.4572 - val_loss: 1.1886 - val_acc: 0.4977\n",
            "Epoch 2/5\n",
            "5627/5627 [==============================] - 28s 5ms/step - loss: 1.0998 - acc: 0.5460 - val_loss: 1.0326 - val_acc: 0.5645\n",
            "Epoch 3/5\n",
            "5627/5627 [==============================] - 27s 5ms/step - loss: 0.9994 - acc: 0.5887 - val_loss: 0.9479 - val_acc: 0.5981\n",
            "Epoch 4/5\n",
            "5627/5627 [==============================] - 27s 5ms/step - loss: 0.9383 - acc: 0.6165 - val_loss: 0.8917 - val_acc: 0.6356\n",
            "Epoch 5/5\n",
            "5627/5627 [==============================] - 27s 5ms/step - loss: 0.8968 - acc: 0.6366 - val_loss: 0.8581 - val_acc: 0.6536\n"
          ]
        }
      ],
      "source": [
        "model_3_history = model_3.fit(train_char_dataset,\n",
        "                              epochs=5,\n",
        "                              steps_per_epoch = int(len(train_char_dataset)),\n",
        "                              validation_data=(val_char_dataset),\n",
        "                              validation_steps=int(0.1*len(val_char_dataset)),\n",
        "                              callbacks=[create_tensorboard_callback(\"/content/log_dir\",\"conv1d_with_char_level_embed\")])"
      ]
    },
    {
      "cell_type": "code",
      "execution_count": 73,
      "metadata": {
        "colab": {
          "base_uri": "https://localhost:8080/"
        },
        "id": "CvAjSG6og94x",
        "outputId": "36fd0fed-cc29-48b0-c325-47da6a740f40"
      },
      "outputs": [
        {
          "output_type": "stream",
          "name": "stdout",
          "text": [
            "Model: \"model_2\"\n",
            "_________________________________________________________________\n",
            " Layer (type)                Output Shape              Param #   \n",
            "=================================================================\n",
            " input_2 (InputLayer)        [(None, 1)]               0         \n",
            "                                                                 \n",
            " text_vectorization_1 (TextV  (None, 290)              0         \n",
            " ectorization)                                                   \n",
            "                                                                 \n",
            " char_embed (Embedding)      (None, 290, 25)           700       \n",
            "                                                                 \n",
            " conv1d_1 (Conv1D)           (None, 290, 64)           4864      \n",
            "                                                                 \n",
            " global_average_pooling1d_1   (None, 64)               0         \n",
            " (GlobalAveragePooling1D)                                        \n",
            "                                                                 \n",
            " dense_2 (Dense)             (None, 128)               8320      \n",
            "                                                                 \n",
            " output_layer (Dense)        (None, 5)                 645       \n",
            "                                                                 \n",
            "=================================================================\n",
            "Total params: 14,529\n",
            "Trainable params: 14,529\n",
            "Non-trainable params: 0\n",
            "_________________________________________________________________\n"
          ]
        }
      ],
      "source": [
        "model_3.summary()"
      ]
    },
    {
      "cell_type": "code",
      "source": [
        "model_3_pred_probs = model_3.predict(val_char_dataset)\n",
        "model_3_preds = tf.argmax(model_3_pred_probs,axis=1)\n",
        "model_3_results = calculate_results(model_3_preds,val_labels_encoded)\n",
        "print(model_3_results)"
      ],
      "metadata": {
        "colab": {
          "base_uri": "https://localhost:8080/"
        },
        "id": "jZSEFTOWZNO3",
        "outputId": "c2d31c98-86e9-45f2-eb40-2a83d007de29"
      },
      "execution_count": 142,
      "outputs": [
        {
          "output_type": "stream",
          "name": "stdout",
          "text": [
            "{'accuracy': 0.6521911823116643, 'recall': 0.6759842999787747, 'precision': 0.6759842999787747, 'f1-score': 0.6612975582807396}\n"
          ]
        }
      ]
    },
    {
      "cell_type": "markdown",
      "source": [
        "## Model4: Token embedding(USE) + character level embeddings\n",
        "Steps:\n",
        "1. Create a token level embedding using USE\n",
        "2. charcter level embedding \n",
        "3. combine both of the output using concatenate layers\n",
        "\n"
      ],
      "metadata": {
        "id": "BUDWxoiuc96m"
      }
    },
    {
      "cell_type": "code",
      "source": [
        "import tensorflow_hub as tfhub"
      ],
      "metadata": {
        "id": "rRsiW801XeVb"
      },
      "execution_count": 74,
      "outputs": []
    },
    {
      "cell_type": "code",
      "source": [
        "word_embedding_layer = tfhub.KerasLayer('https://tfhub.dev/google/universal-sentence-encoder/4',trainable=False,name='USE_layer')"
      ],
      "metadata": {
        "id": "IK5Ywd4JXg0L"
      },
      "execution_count": 75,
      "outputs": []
    },
    {
      "cell_type": "code",
      "source": [
        "#making character level embedding\n",
        "char_embed = tf.keras.layers.Embedding(input_dim = len(char_vocab), output_dim=25, #got this number from rct paper\n",
        "                                 input_length = output_seq_char_len, name='char_embed',mask_zero=True        )"
      ],
      "metadata": {
        "id": "S_O7TPUOZOBC"
      },
      "execution_count": 76,
      "outputs": []
    },
    {
      "cell_type": "code",
      "execution_count": 77,
      "metadata": {
        "id": "HFz6ThdgdESl"
      },
      "outputs": [],
      "source": [
        "#step1\n",
        "#word level embedding model\n",
        "\n",
        "word_input_layer = tf.keras.layers.Input(shape=[],dtype='string')\n",
        "# text_vector_output = text_vectorization(word_input_layer)\n",
        "word_embedding_output = word_embedding_layer(word_input_layer)\n",
        "token_output = tf.keras.layers.Dense(128,activation='relu')(word_embedding_output)\n",
        "token_model = tf.keras.Model(word_input_layer,token_output)\n",
        "\n",
        "\n",
        "\n",
        "#step2\n",
        "\n",
        "char_input = tf.keras.layers.Input(shape=[],dtype='string',name='char_input')\n",
        "char_vectors = char_tokenizer(char_input)\n",
        "char_embedding_output = char_embed(char_vectors)\n",
        "lstm_layer = tf.keras.layers.Bidirectional(tf.keras.layers.LSTM(25))(char_embedding_output)\n",
        "char_model = tf.keras.Model(inputs=char_input,outputs=lstm_layer)\n",
        "\n",
        "\n",
        "#concatenate token and char inputs(create hybrid token embeddings)\n",
        "token_char_concat = tf.keras.layers.Concatenate(name='token_char_hybrid_layer')([token_model.output,char_model.output])\n",
        "# print(token_char_concat.shape)\n",
        "\n",
        "#dense layers with Dropouts as per paper\n",
        "combined_dropout = tf.keras.layers.Dropout(0.5)(token_char_concat)\n",
        "combined_dense = tf.keras.layers.Dense(200,activation='relu')(combined_dropout)\n",
        "final_dropout = tf.keras.layers.Dropout(0.5)(combined_dense)\n",
        "final_dense = tf.keras.layers.Dense(num_classes,activation='softmax')(final_dropout)\n",
        "\n",
        "#final output\n",
        "model_4 = tf.keras.Model(inputs= [word_input_layer,char_input],outputs=final_dense)"
      ]
    },
    {
      "cell_type": "code",
      "source": [
        "model_4.summary()"
      ],
      "metadata": {
        "colab": {
          "base_uri": "https://localhost:8080/"
        },
        "id": "YlpgqIGglzwO",
        "outputId": "45bf1689-857c-47bd-aa4d-97d3bb1ef324"
      },
      "execution_count": 78,
      "outputs": [
        {
          "output_type": "stream",
          "name": "stdout",
          "text": [
            "Model: \"model_5\"\n",
            "__________________________________________________________________________________________________\n",
            " Layer (type)                   Output Shape         Param #     Connected to                     \n",
            "==================================================================================================\n",
            " char_input (InputLayer)        [(None,)]            0           []                               \n",
            "                                                                                                  \n",
            " input_3 (InputLayer)           [(None,)]            0           []                               \n",
            "                                                                                                  \n",
            " text_vectorization_1 (TextVect  (None, 290)         0           ['char_input[0][0]']             \n",
            " orization)                                                                                       \n",
            "                                                                                                  \n",
            " USE_layer (KerasLayer)         (None, 512)          256797824   ['input_3[0][0]']                \n",
            "                                                                                                  \n",
            " char_embed (Embedding)         (None, 290, 25)      700         ['text_vectorization_1[1][0]']   \n",
            "                                                                                                  \n",
            " dense_3 (Dense)                (None, 128)          65664       ['USE_layer[0][0]']              \n",
            "                                                                                                  \n",
            " bidirectional (Bidirectional)  (None, 50)           10200       ['char_embed[0][0]']             \n",
            "                                                                                                  \n",
            " token_char_hybrid_layer (Conca  (None, 178)         0           ['dense_3[0][0]',                \n",
            " tenate)                                                          'bidirectional[0][0]']          \n",
            "                                                                                                  \n",
            " dropout (Dropout)              (None, 178)          0           ['token_char_hybrid_layer[0][0]']\n",
            "                                                                                                  \n",
            " dense_4 (Dense)                (None, 200)          35800       ['dropout[0][0]']                \n",
            "                                                                                                  \n",
            " dropout_1 (Dropout)            (None, 200)          0           ['dense_4[0][0]']                \n",
            "                                                                                                  \n",
            " dense_5 (Dense)                (None, 5)            1005        ['dropout_1[0][0]']              \n",
            "                                                                                                  \n",
            "==================================================================================================\n",
            "Total params: 256,911,193\n",
            "Trainable params: 113,369\n",
            "Non-trainable params: 256,797,824\n",
            "__________________________________________________________________________________________________\n"
          ]
        }
      ]
    },
    {
      "cell_type": "code",
      "source": [
        "#checking the output of token model given a test sent.\n",
        "print(\"token model output\")\n",
        "print(token_model(tf.constant(['this is a test sentence'])))\n",
        "\n",
        "print('char model output')\n",
        "print(char_model(tf.constant(['this is a test sentence'])))"
      ],
      "metadata": {
        "colab": {
          "base_uri": "https://localhost:8080/"
        },
        "id": "TTgDL5_sWevQ",
        "outputId": "72016b5c-630e-42d9-ee9f-6d9d33c29029"
      },
      "execution_count": 79,
      "outputs": [
        {
          "output_type": "stream",
          "name": "stdout",
          "text": [
            "token model output\n",
            "tf.Tensor(\n",
            "[[0.00000000e+00 4.52137887e-02 0.00000000e+00 6.98595718e-02\n",
            "  5.16295619e-02 1.33198619e-01 2.66589988e-02 0.00000000e+00\n",
            "  0.00000000e+00 4.22778539e-02 8.92750993e-02 6.40697107e-02\n",
            "  0.00000000e+00 3.68347391e-02 0.00000000e+00 1.48248747e-02\n",
            "  0.00000000e+00 0.00000000e+00 7.51909390e-02 4.29242030e-02\n",
            "  0.00000000e+00 0.00000000e+00 0.00000000e+00 2.45116409e-02\n",
            "  0.00000000e+00 0.00000000e+00 8.31265561e-03 0.00000000e+00\n",
            "  0.00000000e+00 3.16205099e-02 6.24189116e-02 0.00000000e+00\n",
            "  1.74454472e-03 0.00000000e+00 0.00000000e+00 0.00000000e+00\n",
            "  0.00000000e+00 0.00000000e+00 0.00000000e+00 0.00000000e+00\n",
            "  0.00000000e+00 0.00000000e+00 0.00000000e+00 6.92351758e-02\n",
            "  0.00000000e+00 0.00000000e+00 1.04350969e-02 1.44911721e-01\n",
            "  1.60074860e-01 1.44592505e-02 0.00000000e+00 4.23864685e-02\n",
            "  0.00000000e+00 0.00000000e+00 3.94625589e-02 0.00000000e+00\n",
            "  8.34271405e-03 0.00000000e+00 0.00000000e+00 0.00000000e+00\n",
            "  0.00000000e+00 0.00000000e+00 4.36831154e-02 1.65822096e-02\n",
            "  2.11992208e-02 2.03190222e-02 3.04639935e-02 6.78890869e-02\n",
            "  5.89692593e-03 0.00000000e+00 0.00000000e+00 0.00000000e+00\n",
            "  8.86518508e-03 0.00000000e+00 5.76349944e-02 3.28179710e-02\n",
            "  7.22110346e-02 0.00000000e+00 9.68426466e-05 1.75743364e-03\n",
            "  9.50791985e-02 7.42496178e-03 0.00000000e+00 0.00000000e+00\n",
            "  0.00000000e+00 0.00000000e+00 0.00000000e+00 7.70562589e-02\n",
            "  1.12536559e-02 0.00000000e+00 0.00000000e+00 2.22916529e-02\n",
            "  1.59865506e-02 0.00000000e+00 0.00000000e+00 0.00000000e+00\n",
            "  9.14821215e-03 7.25292787e-02 0.00000000e+00 9.40743275e-03\n",
            "  3.08354702e-02 0.00000000e+00 4.55245115e-02 5.80077879e-02\n",
            "  8.82467479e-02 0.00000000e+00 0.00000000e+00 3.50041781e-03\n",
            "  3.53986807e-02 3.82386073e-02 1.89783014e-02 1.39729911e-02\n",
            "  3.18082161e-02 0.00000000e+00 0.00000000e+00 2.65201814e-02\n",
            "  1.42232776e-02 0.00000000e+00 2.92413235e-02 6.37511089e-02\n",
            "  8.14113766e-02 0.00000000e+00 0.00000000e+00 5.37761189e-02\n",
            "  0.00000000e+00 3.09195630e-02 0.00000000e+00 4.47873957e-02]], shape=(1, 128), dtype=float32)\n",
            "char model output\n",
            "tf.Tensor(\n",
            "[[ 0.02490699 -0.00256119 -0.00913535 -0.01499998  0.01870005 -0.01399706\n",
            "  -0.01647572  0.0109561   0.01003651  0.00861793 -0.00941297 -0.03264378\n",
            "  -0.00529919  0.02368877 -0.02403959 -0.00541856  0.00393752 -0.00531902\n",
            "  -0.00669875  0.01146184 -0.01137383  0.01010522  0.00412399 -0.00937069\n",
            "  -0.01021    -0.00248143 -0.01176021  0.00452216  0.00712678 -0.0081995\n",
            "   0.01705637  0.00666083 -0.00101286  0.00442503 -0.00388912 -0.01331603\n",
            "  -0.00450147  0.00653841 -0.01796056  0.0010847  -0.00046702  0.01658513\n",
            "   0.00143725  0.02275411 -0.0131626  -0.00251466 -0.00613049 -0.01519253\n",
            "  -0.00472222  0.01615432]], shape=(1, 50), dtype=float32)\n"
          ]
        }
      ]
    },
    {
      "cell_type": "code",
      "source": [
        "#plot the model\n",
        "from tensorflow.keras.utils import plot_model\n",
        "plot_model(model_4)"
      ],
      "metadata": {
        "colab": {
          "base_uri": "https://localhost:8080/",
          "height": 856
        },
        "id": "-6Dgx7_fdeF9",
        "outputId": "4ee9f7fa-e178-414e-b8ed-eaf4e4f32497"
      },
      "execution_count": 80,
      "outputs": [
        {
          "output_type": "execute_result",
          "data": {
            "text/plain": [
              "<IPython.core.display.Image object>"
            ],
            "image/png": "[encoded data removed]"
          },
          "metadata": {},
          "execution_count": 80
        }
      ]
    },
    {
      "cell_type": "code",
      "source": [
        "model_4.compile(loss=tf.keras.losses.CategoricalCrossentropy(),\n",
        "                optimizer=tf.keras.optimizers.Adam(),\n",
        "                metrics=['acc'])"
      ],
      "metadata": {
        "id": "u1gw3DgDY2pT"
      },
      "execution_count": 81,
      "outputs": []
    },
    {
      "cell_type": "code",
      "source": [
        "#creating token and char dataset\n",
        "train_char_token_data = tf.data.Dataset.from_tensor_slices(((train_sentences,train_chars),train_labels_one_hot)).batch(32).prefetch(tf.data.AUTOTUNE)\n",
        "test_char_token_data = tf.data.Dataset.from_tensor_slices(((test_sentences,test_chars),test_labels_one_hot)).batch(32).prefetch(tf.data.AUTOTUNE)\n",
        "val_char_token_data = tf.data.Dataset.from_tensor_slices(((val_sentences,val_chars),val_labels_one_hot)).batch(32).prefetch(tf.data.AUTOTUNE)"
      ],
      "metadata": {
        "id": "RPLXfA8entHq"
      },
      "execution_count": 82,
      "outputs": []
    },
    {
      "cell_type": "code",
      "source": [
        "model_4_history = model_4.fit(train_char_token_data,\n",
        "                              epochs=5,\n",
        "                              steps_per_epoch = int(0.1*len(train_char_token_data)),\n",
        "                              validation_data = val_char_token_data,\n",
        "                              validation_steps=int(0.1*len(val_char_token_data)),\n",
        "                              callbacks=[create_tensorboard_callback('/content/log_dir','model_4_word_char_hybrid_embedding')])"
      ],
      "metadata": {
        "colab": {
          "base_uri": "https://localhost:8080/"
        },
        "id": "-AAaxGVdr7rI",
        "outputId": "44ab0945-8fe7-4463-d801-38e6904b9d09"
      },
      "execution_count": 83,
      "outputs": [
        {
          "output_type": "stream",
          "name": "stdout",
          "text": [
            "Saving tensorboard logs at:  /content/log_dir/model_4_word_char_hybrid_embedding/20220417-144720\n",
            "Epoch 1/5\n",
            "562/562 [==============================] - 40s 54ms/step - loss: 0.9688 - acc: 0.6157 - val_loss: 0.7721 - val_acc: 0.7028\n",
            "Epoch 2/5\n",
            "562/562 [==============================] - 27s 49ms/step - loss: 0.7907 - acc: 0.6919 - val_loss: 0.7171 - val_acc: 0.7221\n",
            "Epoch 3/5\n",
            "562/562 [==============================] - 26s 46ms/step - loss: 0.7702 - acc: 0.7033 - val_loss: 0.6913 - val_acc: 0.7384\n",
            "Epoch 4/5\n",
            "562/562 [==============================] - 29s 52ms/step - loss: 0.7391 - acc: 0.7201 - val_loss: 0.6673 - val_acc: 0.7543\n",
            "Epoch 5/5\n",
            "562/562 [==============================] - 27s 49ms/step - loss: 0.7470 - acc: 0.7150 - val_loss: 0.6603 - val_acc: 0.7517\n"
          ]
        }
      ]
    },
    {
      "cell_type": "code",
      "source": [
        "model_4.evaluate(val_char_token_data)"
      ],
      "metadata": {
        "colab": {
          "base_uri": "https://localhost:8080/"
        },
        "id": "7NlqUsYKsBkx",
        "outputId": "571c8153-c024-4955-a7f7-9f6701a4bd20"
      },
      "execution_count": 84,
      "outputs": [
        {
          "output_type": "stream",
          "name": "stdout",
          "text": [
            "945/945 [==============================] - 37s 39ms/step - loss: 0.6686 - acc: 0.7466\n"
          ]
        },
        {
          "output_type": "execute_result",
          "data": {
            "text/plain": [
              "[0.6685634255409241, 0.7465907335281372]"
            ]
          },
          "metadata": {},
          "execution_count": 84
        }
      ]
    },
    {
      "cell_type": "code",
      "source": [
        "model_4_pred_probs = model_4.predict(val_char_token_data)\n",
        "model_4_preds = tf.argmax(model_4_pred_probs,axis=1)\n"
      ],
      "metadata": {
        "id": "Gt-1oSyS870o"
      },
      "execution_count": 87,
      "outputs": []
    },
    {
      "cell_type": "code",
      "source": [
        " \n",
        "model_4_results = calculate_results(model_4_preds,val_labels_encoded)\n",
        "print(model_4_results)"
      ],
      "metadata": {
        "colab": {
          "base_uri": "https://localhost:8080/"
        },
        "id": "4GTroVNFBvX1",
        "outputId": "f0c1af03-98ad-486a-a217-d25524254e21"
      },
      "execution_count": 88,
      "outputs": [
        {
          "output_type": "stream",
          "name": "stdout",
          "text": [
            "{'accuracy': 0.7465907586389514, 'recall': 0.7640561739797183, 'precision': 0.7640561739797183, 'f1-score': 0.7519181890659857}\n"
          ]
        }
      ]
    },
    {
      "cell_type": "markdown",
      "source": [
        "## Model5: Token Emedding + Char Embedding + Positional Embedding"
      ],
      "metadata": {
        "id": "E9wmkPTABehK"
      }
    },
    {
      "cell_type": "code",
      "source": [
        "#using that line number and their order hold some knowledge which can be converted into numbers and used while models\n",
        "train_df.head()"
      ],
      "metadata": {
        "colab": {
          "base_uri": "https://localhost:8080/",
          "height": 206
        },
        "id": "0fXoeyynGOVH",
        "outputId": "068854eb-088e-44d0-9312-9d3ed9493593"
      },
      "execution_count": 89,
      "outputs": [
        {
          "output_type": "execute_result",
          "data": {
            "text/plain": [
              "   line_number     target                                               text  \\\n",
              "0            0  OBJECTIVE  To investigate the efficacy of @ weeks of dail...   \n",
              "1            1    METHODS  A total of @ patients with primary knee OA wer...   \n",
              "2            2    METHODS  Outcome measures included pain reduction and i...   \n",
              "3            3    METHODS  Pain was assessed using the visual analog pain...   \n",
              "4            4    METHODS  Secondary outcome measures included the Wester...   \n",
              "\n",
              "   total_lines  \n",
              "0           11  \n",
              "1           11  \n",
              "2           11  \n",
              "3           11  \n",
              "4           11  "
            ],
            "text/html": [
              "\n",
              "  <div id=\"df-588cf35d-d140-4c14-97cd-9e3922b8d3f4\">\n",
              "    <div class=\"colab-df-container\">\n",
              "      <div>\n",
              "<style scoped>\n",
              "    .dataframe tbody tr th:only-of-type {\n",
              "        vertical-align: middle;\n",
              "    }\n",
              "\n",
              "    .dataframe tbody tr th {\n",
              "        vertical-align: top;\n",
              "    }\n",
              "\n",
              "    .dataframe thead th {\n",
              "        text-align: right;\n",
              "    }\n",
              "</style>\n",
              "<table border=\"1\" class=\"dataframe\">\n",
              "  <thead>\n",
              "    <tr style=\"text-align: right;\">\n",
              "      <th></th>\n",
              "      <th>line_number</th>\n",
              "      <th>target</th>\n",
              "      <th>text</th>\n",
              "      <th>total_lines</th>\n",
              "    </tr>\n",
              "  </thead>\n",
              "  <tbody>\n",
              "    <tr>\n",
              "      <th>0</th>\n",
              "      <td>0</td>\n",
              "      <td>OBJECTIVE</td>\n",
              "      <td>To investigate the efficacy of @ weeks of dail...</td>\n",
              "      <td>11</td>\n",
              "    </tr>\n",
              "    <tr>\n",
              "      <th>1</th>\n",
              "      <td>1</td>\n",
              "      <td>METHODS</td>\n",
              "      <td>A total of @ patients with primary knee OA wer...</td>\n",
              "      <td>11</td>\n",
              "    </tr>\n",
              "    <tr>\n",
              "      <th>2</th>\n",
              "      <td>2</td>\n",
              "      <td>METHODS</td>\n",
              "      <td>Outcome measures included pain reduction and i...</td>\n",
              "      <td>11</td>\n",
              "    </tr>\n",
              "    <tr>\n",
              "      <th>3</th>\n",
              "      <td>3</td>\n",
              "      <td>METHODS</td>\n",
              "      <td>Pain was assessed using the visual analog pain...</td>\n",
              "      <td>11</td>\n",
              "    </tr>\n",
              "    <tr>\n",
              "      <th>4</th>\n",
              "      <td>4</td>\n",
              "      <td>METHODS</td>\n",
              "      <td>Secondary outcome measures included the Wester...</td>\n",
              "      <td>11</td>\n",
              "    </tr>\n",
              "  </tbody>\n",
              "</table>\n",
              "</div>\n",
              "      <button class=\"colab-df-convert\" onclick=\"convertToInteractive('df-588cf35d-d140-4c14-97cd-9e3922b8d3f4')\"\n",
              "              title=\"Convert this dataframe to an interactive table.\"\n",
              "              style=\"display:none;\">\n",
              "        \n",
              "  <svg xmlns=\"http://www.w3.org/2000/svg\" height=\"24px\"viewBox=\"0 0 24 24\"\n",
              "       width=\"24px\">\n",
              "    <path d=\"M0 0h24v24H0V0z\" fill=\"none\"/>\n",
              "    <path d=\"M18.56 5.44l.94 2.06.94-2.06 2.06-.94-2.06-.94-.94-2.06-.94 2.06-2.06.94zm-11 1L8.5 8.5l.94-2.06 2.06-.94-2.06-.94L8.5 2.5l-.94 2.06-2.06.94zm10 10l.94 2.06.94-2.06 2.06-.94-2.06-.94-.94-2.06-.94 2.06-2.06.94z\"/><path d=\"M17.41 7.96l-1.37-1.37c-.4-.4-.92-.59-1.43-.59-.52 0-1.04.2-1.43.59L10.3 9.45l-7.72 7.72c-.78.78-.78 2.05 0 2.83L4 21.41c.39.39.9.59 1.41.59.51 0 1.02-.2 1.41-.59l7.78-7.78 2.81-2.81c.8-.78.8-2.07 0-2.86zM5.41 20L4 18.59l7.72-7.72 1.47 1.35L5.41 20z\"/>\n",
              "  </svg>\n",
              "      </button>\n",
              "      \n",
              "  <style>\n",
              "    .colab-df-container {\n",
              "      display:flex;\n",
              "      flex-wrap:wrap;\n",
              "      gap: 12px;\n",
              "    }\n",
              "\n",
              "    .colab-df-convert {\n",
              "      background-color: #E8F0FE;\n",
              "      border: none;\n",
              "      border-radius: 50%;\n",
              "      cursor: pointer;\n",
              "      display: none;\n",
              "      fill: #1967D2;\n",
              "      height: 32px;\n",
              "      padding: 0 0 0 0;\n",
              "      width: 32px;\n",
              "    }\n",
              "\n",
              "    .colab-df-convert:hover {\n",
              "      background-color: #E2EBFA;\n",
              "      box-shadow: 0px 1px 2px rgba(60, 64, 67, 0.3), 0px 1px 3px 1px rgba(60, 64, 67, 0.15);\n",
              "      fill: #174EA6;\n",
              "    }\n",
              "\n",
              "    [theme=dark] .colab-df-convert {\n",
              "      background-color: #3B4455;\n",
              "      fill: #D2E3FC;\n",
              "    }\n",
              "\n",
              "    [theme=dark] .colab-df-convert:hover {\n",
              "      background-color: #434B5C;\n",
              "      box-shadow: 0px 1px 3px 1px rgba(0, 0, 0, 0.15);\n",
              "      filter: drop-shadow(0px 1px 2px rgba(0, 0, 0, 0.3));\n",
              "      fill: #FFFFFF;\n",
              "    }\n",
              "  </style>\n",
              "\n",
              "      <script>\n",
              "        const buttonEl =\n",
              "          document.querySelector('#df-588cf35d-d140-4c14-97cd-9e3922b8d3f4 button.colab-df-convert');\n",
              "        buttonEl.style.display =\n",
              "          google.colab.kernel.accessAllowed ? 'block' : 'none';\n",
              "\n",
              "        async function convertToInteractive(key) {\n",
              "          const element = document.querySelector('#df-588cf35d-d140-4c14-97cd-9e3922b8d3f4');\n",
              "          const dataTable =\n",
              "            await google.colab.kernel.invokeFunction('convertToInteractive',\n",
              "                                                     [key], {});\n",
              "          if (!dataTable) return;\n",
              "\n",
              "          const docLinkHtml = 'Like what you see? Visit the ' +\n",
              "            '<a target=\"_blank\" href=https://colab.research.google.com/notebooks/data_table.ipynb>data table notebook</a>'\n",
              "            + ' to learn more about interactive tables.';\n",
              "          element.innerHTML = '';\n",
              "          dataTable['output_type'] = 'display_data';\n",
              "          await google.colab.output.renderOutput(dataTable, element);\n",
              "          const docLink = document.createElement('div');\n",
              "          docLink.innerHTML = docLinkHtml;\n",
              "          element.appendChild(docLink);\n",
              "        }\n",
              "      </script>\n",
              "    </div>\n",
              "  </div>\n",
              "  "
            ]
          },
          "metadata": {},
          "execution_count": 89
        }
      ]
    },
    {
      "cell_type": "code",
      "source": [
        "train_df['total_lines'].value_counts()"
      ],
      "metadata": {
        "colab": {
          "base_uri": "https://localhost:8080/"
        },
        "id": "6B535mwnGaxg",
        "outputId": "e77f15e0-4961-447a-9c18-9e5987d79031"
      },
      "execution_count": 90,
      "outputs": [
        {
          "output_type": "execute_result",
          "data": {
            "text/plain": [
              "11    24468\n",
              "10    23639\n",
              "12    22113\n",
              "9     19400\n",
              "13    18438\n",
              "14    14610\n",
              "8     12285\n",
              "15    10768\n",
              "7      7464\n",
              "16     7429\n",
              "17     5202\n",
              "6      3353\n",
              "18     3344\n",
              "19     2480\n",
              "20     1281\n",
              "5      1146\n",
              "21      770\n",
              "22      759\n",
              "23      264\n",
              "4       215\n",
              "24      200\n",
              "25      182\n",
              "26       81\n",
              "28       58\n",
              "3        32\n",
              "30       31\n",
              "27       28\n",
              "Name: total_lines, dtype: int64"
            ]
          },
          "metadata": {},
          "execution_count": 90
        }
      ]
    },
    {
      "cell_type": "code",
      "source": [
        "#checking the distribution of total lines numbers\n",
        "train_df['total_lines'].plot.hist();"
      ],
      "metadata": {
        "colab": {
          "base_uri": "https://localhost:8080/",
          "height": 267
        },
        "id": "omVY8ZwmGfMD",
        "outputId": "7560713a-04e6-4ffd-ad33-7d63c74ef471"
      },
      "execution_count": 93,
      "outputs": [
        {
          "output_type": "display_data",
          "data": {
            "text/plain": [
              "<Figure size 432x288 with 1 Axes>"
            ],
            "image/png": "[encoded data removed]"
          },
          "metadata": {
            "needs_background": "light"
          }
        }
      ]
    },
    {
      "cell_type": "code",
      "source": [
        "#finding total lines which covers 98 percent of data\n",
        "total_lines_depth = np.percentile(train_df['total_lines'],98)\n",
        "print(total_lines_depth)"
      ],
      "metadata": {
        "colab": {
          "base_uri": "https://localhost:8080/"
        },
        "id": "TCM7d80ZGqeD",
        "outputId": "fe625259-d322-4f9c-926e-5758cac7709b"
      },
      "execution_count": 97,
      "outputs": [
        {
          "output_type": "stream",
          "name": "stdout",
          "text": [
            "20.0\n"
          ]
        }
      ]
    },
    {
      "cell_type": "code",
      "source": [
        "# we can encode total lines feature as one hot encoded feature\n",
        "train_total_lines_one_hot = tf.one_hot(train_df['total_lines'],depth=total_lines_depth)\n",
        "train_total_lines_one_hot[:10]"
      ],
      "metadata": {
        "colab": {
          "base_uri": "https://localhost:8080/"
        },
        "id": "V7OOQYcUG08O",
        "outputId": "7614677c-1de3-4c4e-d7b8-738823bb1653"
      },
      "execution_count": 98,
      "outputs": [
        {
          "output_type": "execute_result",
          "data": {
            "text/plain": [
              "<tf.Tensor: shape=(10, 20), dtype=float32, numpy=\n",
              "array([[0., 0., 0., 0., 0., 0., 0., 0., 0., 0., 0., 1., 0., 0., 0., 0.,\n",
              "        0., 0., 0., 0.],\n",
              "       [0., 0., 0., 0., 0., 0., 0., 0., 0., 0., 0., 1., 0., 0., 0., 0.,\n",
              "        0., 0., 0., 0.],\n",
              "       [0., 0., 0., 0., 0., 0., 0., 0., 0., 0., 0., 1., 0., 0., 0., 0.,\n",
              "        0., 0., 0., 0.],\n",
              "       [0., 0., 0., 0., 0., 0., 0., 0., 0., 0., 0., 1., 0., 0., 0., 0.,\n",
              "        0., 0., 0., 0.],\n",
              "       [0., 0., 0., 0., 0., 0., 0., 0., 0., 0., 0., 1., 0., 0., 0., 0.,\n",
              "        0., 0., 0., 0.],\n",
              "       [0., 0., 0., 0., 0., 0., 0., 0., 0., 0., 0., 1., 0., 0., 0., 0.,\n",
              "        0., 0., 0., 0.],\n",
              "       [0., 0., 0., 0., 0., 0., 0., 0., 0., 0., 0., 1., 0., 0., 0., 0.,\n",
              "        0., 0., 0., 0.],\n",
              "       [0., 0., 0., 0., 0., 0., 0., 0., 0., 0., 0., 1., 0., 0., 0., 0.,\n",
              "        0., 0., 0., 0.],\n",
              "       [0., 0., 0., 0., 0., 0., 0., 0., 0., 0., 0., 1., 0., 0., 0., 0.,\n",
              "        0., 0., 0., 0.],\n",
              "       [0., 0., 0., 0., 0., 0., 0., 0., 0., 0., 0., 1., 0., 0., 0., 0.,\n",
              "        0., 0., 0., 0.]], dtype=float32)>"
            ]
          },
          "metadata": {},
          "execution_count": 98
        }
      ]
    },
    {
      "cell_type": "code",
      "source": [
        "#engineered features should be available at test time also.\n",
        "test_total_lines_one_hot = tf.one_hot(test_df['total_lines'],depth=total_lines_depth)\n",
        "val_total_lines_one_hot = tf.one_hot(val_df['total_lines'],depth=total_lines_depth)"
      ],
      "metadata": {
        "id": "TITCYnlmHS55"
      },
      "execution_count": 99,
      "outputs": []
    },
    {
      "cell_type": "code",
      "source": [
        "#looking at line number feature\n",
        "train_df['line_number'].value_counts()"
      ],
      "metadata": {
        "colab": {
          "base_uri": "https://localhost:8080/"
        },
        "id": "m7Nrw9pJHjkD",
        "outputId": "909e0aa0-706b-4b30-d173-54217ae794db"
      },
      "execution_count": 100,
      "outputs": [
        {
          "output_type": "execute_result",
          "data": {
            "text/plain": [
              "0     15000\n",
              "1     15000\n",
              "2     15000\n",
              "3     15000\n",
              "4     14992\n",
              "5     14949\n",
              "6     14758\n",
              "7     14279\n",
              "8     13346\n",
              "9     11981\n",
              "10    10041\n",
              "11     7892\n",
              "12     5853\n",
              "13     4152\n",
              "14     2835\n",
              "15     1861\n",
              "16     1188\n",
              "17      751\n",
              "18      462\n",
              "19      286\n",
              "20      162\n",
              "21      101\n",
              "22       66\n",
              "23       33\n",
              "24       22\n",
              "25       14\n",
              "26        7\n",
              "27        4\n",
              "28        3\n",
              "29        1\n",
              "30        1\n",
              "Name: line_number, dtype: int64"
            ]
          },
          "metadata": {},
          "execution_count": 100
        }
      ]
    },
    {
      "cell_type": "code",
      "source": [
        "#looks like most examples go up to 15 number of lines.\n",
        "train_df['line_number'].plot.hist();"
      ],
      "metadata": {
        "colab": {
          "base_uri": "https://localhost:8080/",
          "height": 265
        },
        "id": "-mqZMoO-Ho9L",
        "outputId": "61c50e05-f5a6-4cab-9a37-286958a0ed7f"
      },
      "execution_count": 102,
      "outputs": [
        {
          "output_type": "display_data",
          "data": {
            "text/plain": [
              "<Figure size 432x288 with 1 Axes>"
            ],
            "image/png": "[encoded data removed]"
          },
          "metadata": {
            "needs_background": "light"
          }
        }
      ]
    },
    {
      "cell_type": "code",
      "source": [
        "line_number_depth = np.percentile(train_df['line_number'],98)\n",
        "print(line_number_depth)"
      ],
      "metadata": {
        "colab": {
          "base_uri": "https://localhost:8080/"
        },
        "id": "yXVWJPK5Hs81",
        "outputId": "a03a4629-0d4b-4a68-8398-df2a0d86118a"
      },
      "execution_count": 103,
      "outputs": [
        {
          "output_type": "stream",
          "name": "stdout",
          "text": [
            "15.0\n"
          ]
        }
      ]
    },
    {
      "cell_type": "code",
      "source": [
        "train_line_number_one_hot = tf.one_hot(train_df['line_number'],depth=line_number_depth)\n",
        "test_line_number_one_hot = tf.one_hot(test_df['line_number'],depth=line_number_depth)\n",
        "val_line_number_one_hot = tf.one_hot(val_df['line_number'],depth=line_number_depth)"
      ],
      "metadata": {
        "id": "2sRv_DRhH3sf"
      },
      "execution_count": 129,
      "outputs": []
    },
    {
      "cell_type": "markdown",
      "source": [
        "### model5 steps\n",
        "1. Word level embedding model\n",
        "2. char level embedding model\n",
        "3. line number model\n",
        "4. total lines model\n",
        "5. concatente 1 and 2\n",
        "6. concatenate 3,4,5 into a token-character-positional tribred embedding.\n",
        "7. create ouput model to accept tribred embedding\n",
        "8. combine inputs for 1,2,3,4 and outputs of 7 into a keras model\n"
      ],
      "metadata": {
        "id": "lenWJvz7Jb-v"
      }
    },
    {
      "cell_type": "code",
      "source": [
        "embed.name"
      ],
      "metadata": {
        "colab": {
          "base_uri": "https://localhost:8080/",
          "height": 36
        },
        "id": "hq41gxE5NA6s",
        "outputId": "03656e13-8654-40e6-8b3a-3fc7c30ed758"
      },
      "execution_count": 106,
      "outputs": [
        {
          "output_type": "execute_result",
          "data": {
            "text/plain": [
              "'universal_sent_encoder_embedding'"
            ],
            "application/vnd.google.colaboratory.intrinsic+json": {
              "type": "string"
            }
          },
          "metadata": {},
          "execution_count": 106
        }
      ]
    },
    {
      "cell_type": "code",
      "source": [
        "#making character level embedding\n",
        "char_embed = tf.keras.layers.Embedding(input_dim = len(char_vocab), output_dim=25, #got this number from rct paper\n",
        "                                 input_length = output_seq_char_len, name='char_embed',mask_zero=True        )"
      ],
      "metadata": {
        "id": "cslchtq-N3zD"
      },
      "execution_count": 109,
      "outputs": []
    },
    {
      "cell_type": "code",
      "source": [
        "# 1. word level model\n",
        "word_input_layer = tf.keras.layers.Input(shape=[],dtype='string',name='word_level_input')\n",
        "word_embed_output = embed(word_input_layer) #this outputs feature vector of shape 512\n",
        "word_vectors = tf.keras.layers.Dense(128,activation='relu',name='word_level_output')(word_embed_output)\n",
        "token_model = tf.keras.Model(inputs=word_input_layer,outputs=word_vectors,name='word_level_model')\n",
        "\n",
        "# 2. char level model\n",
        "char_input_layer = tf.keras.layers.Input(shape=(1,),dtype='string',name='char_level_input')\n",
        "char_vectorizer_output = char_tokenizer(char_input_layer)\n",
        "char_embed_output = char_embed(char_vectorizer_output)\n",
        "char_bi_lstm = tf.keras.layers.Bidirectional(tf.keras.layers.LSTM(25))(char_embed_output)\n",
        "char_model = tf.keras.Model(char_input_layer,char_bi_lstm,name='char_level_model')\n",
        "\n",
        "#3. line numbers\n",
        "line_number_input = tf.keras.layers.Input(shape=(int(line_number_depth),),dtype=tf.int32,name='line_number_input')\n",
        "x = tf.keras.layers.Dense(32,activation='relu')(line_number_input)\n",
        "line_number_model = tf.keras.Model(line_number_input,x,name='line_number_model')\n",
        "\n",
        "#4. total lines\n",
        "total_lines_input = tf.keras.layers.Input(shape=(int(total_lines_depth),),dtype=tf.int32,name='total_lines_input')\n",
        "y = tf.keras.layers.Dense(32,activation='relu')(total_lines_input)\n",
        "total_lines_model = tf.keras.Model(total_lines_input,y,name='total_lines_model')\n",
        "\n",
        "#5. concatenate 1 and 2\n",
        "combined_embeddings = tf.keras.layers.Concatenate(name='token_char_hybrid_embedding')([token_model.output,char_model.output])\n",
        "z = tf.keras.layers.Dense(256,activation='relu')(combined_embeddings)\n",
        "z = tf.keras.layers.Dropout(0.5)(z)\n",
        "\n",
        "#combining 3 4 and 5\n",
        "z = tf.keras.layers.Concatenate(name='tribred_embedding')([line_number_model.output,total_lines_model.output,z])\n",
        "\n",
        "output_layer = tf.keras.layers.Dense(num_classes,activation='softmax',name='final_output_layer')(z)\n",
        "\n",
        "model_5 = tf.keras.Model(inputs=[line_number_model.input,\n",
        "                                 total_lines_model.input,\n",
        "                                  token_model.input,\n",
        "                                 char_model.input],\n",
        "                         outputs=output_layer)"
      ],
      "metadata": {
        "id": "O7_A2XsIM0iN"
      },
      "execution_count": 116,
      "outputs": []
    },
    {
      "cell_type": "code",
      "source": [
        "from tensorflow.keras.utils import plot_model\n",
        "plot_model(model_5,show_shapes=True)"
      ],
      "metadata": {
        "colab": {
          "base_uri": "https://localhost:8080/",
          "height": 656
        },
        "id": "lCFoQ8vkNoac",
        "outputId": "7b1a5ff3-5da9-4b14-cd75-d1d710021637"
      },
      "execution_count": 121,
      "outputs": [
        {
          "output_type": "execute_result",
          "data": {
            "text/plain": [
              "<IPython.core.display.Image object>"
            ],
            "image/png": "[encoded data removed]"
          },
          "metadata": {},
          "execution_count": 121
        }
      ]
    },
    {
      "cell_type": "code",
      "source": [
        "#preparing the dataset\n",
        "train_tribred_data = tf.data.Dataset.from_tensor_slices(((train_line_number_one_hot,train_total_lines_one_hot,train_sentences,train_chars),train_labels_one_hot)).batch(32).prefetch(tf.data.AUTOTUNE)\n",
        "val_tribred_data = tf.data.Dataset.from_tensor_slices(((val_line_number_one_hot,val_total_lines_one_hot,val_sentences,val_chars),val_labels_one_hot)).batch(32).prefetch(tf.data.AUTOTUNE)\n"
      ],
      "metadata": {
        "id": "9ilp8_wuRJCZ"
      },
      "execution_count": 130,
      "outputs": []
    },
    {
      "cell_type": "code",
      "source": [
        "\n",
        "model_5.compile(loss=tf.keras.losses.CategoricalCrossentropy(),\n",
        "                optimizer=tf.keras.optimizers.Adam(),\n",
        "                metrics=['acc'])"
      ],
      "metadata": {
        "id": "nY_YsQFSSYUW"
      },
      "execution_count": 131,
      "outputs": []
    },
    {
      "cell_type": "code",
      "source": [
        "model_5_history = model_5.fit(train_tribred_data,\n",
        "                              epochs=5,\n",
        "                              steps_per_epoch=int(0.1*len(train_tribred_data)),\n",
        "                              validation_data=val_tribred_data,\n",
        "                              validation_steps=int(0.1*len(val_tribred_data)),\n",
        "                              callbacks=[create_tensorboard_callback('/content/log_dir','tribred_model')])"
      ],
      "metadata": {
        "colab": {
          "base_uri": "https://localhost:8080/"
        },
        "id": "L2GTzS2yRQMQ",
        "outputId": "1777e93d-f094-4566-e1e9-d365e1bca279"
      },
      "execution_count": 132,
      "outputs": [
        {
          "output_type": "stream",
          "name": "stdout",
          "text": [
            "Saving tensorboard logs at:  /content/log_dir/tribred_model/20220417-161326\n",
            "Epoch 1/5\n",
            "562/562 [==============================] - 93s 97ms/step - loss: 0.4577 - acc: 0.8237 - val_loss: 0.4386 - val_acc: 0.8288\n",
            "Epoch 2/5\n",
            "562/562 [==============================] - 47s 85ms/step - loss: 0.4150 - acc: 0.8430 - val_loss: 0.4170 - val_acc: 0.8447\n",
            "Epoch 3/5\n",
            "562/562 [==============================] - 42s 74ms/step - loss: 0.4092 - acc: 0.8429 - val_loss: 0.4124 - val_acc: 0.8414\n",
            "Epoch 4/5\n",
            "562/562 [==============================] - 51s 91ms/step - loss: 0.4189 - acc: 0.8426 - val_loss: 0.3963 - val_acc: 0.8487\n",
            "Epoch 5/5\n",
            "562/562 [==============================] - 28s 49ms/step - loss: 0.4088 - acc: 0.8446 - val_loss: 0.3907 - val_acc: 0.8527\n"
          ]
        }
      ]
    },
    {
      "cell_type": "code",
      "source": [
        "model_5.evaluate(val_tribred_data)"
      ],
      "metadata": {
        "colab": {
          "base_uri": "https://localhost:8080/"
        },
        "id": "JRcznJquSWlC",
        "outputId": "1e02945e-9199-4016-92bd-e12e2d00ab92"
      },
      "execution_count": 133,
      "outputs": [
        {
          "output_type": "stream",
          "name": "stdout",
          "text": [
            "945/945 [==============================] - 36s 38ms/step - loss: 0.3902 - acc: 0.8523\n"
          ]
        },
        {
          "output_type": "execute_result",
          "data": {
            "text/plain": [
              "[0.39020636677742004, 0.8523434400558472]"
            ]
          },
          "metadata": {},
          "execution_count": 133
        }
      ]
    },
    {
      "cell_type": "code",
      "source": [
        "model_5_pred_probs = model_5.predict(val_tribred_data)\n",
        "model_5_preds = tf.argmax(model_5_pred_probs,axis=1)\n",
        "model_5_results = calculate_results(model_5_preds,val_labels_encoded)\n",
        "print(model_5_results)"
      ],
      "metadata": {
        "colab": {
          "base_uri": "https://localhost:8080/"
        },
        "id": "leGYUMh6Xe41",
        "outputId": "2556a868-19ac-4790-b76b-253870820738"
      },
      "execution_count": 134,
      "outputs": [
        {
          "output_type": "stream",
          "name": "stdout",
          "text": [
            "{'accuracy': 0.8523434396928373, 'recall': 0.8674797644276956, 'precision': 0.8674797644276956, 'f1-score': 0.8560151903136927}\n"
          ]
        }
      ]
    },
    {
      "cell_type": "markdown",
      "source": [
        "## Comparing different model results\n"
      ],
      "metadata": {
        "id": "k1lmSZD2YTRc"
      }
    },
    {
      "cell_type": "code",
      "source": [
        "import pandas as pd\n",
        "results_df = pd.DataFrame({\n",
        "    \"Mode_0_baseline\":model_0_results,\n",
        "    \"Mode_1_custom_token_embedding\":model_1_results,\n",
        "    \"Model_2_Pretrained_Token_embedding\":model_2_results,\n",
        "    \"Model_3_Custom_Char_EMbedding\":model_3_results,\n",
        "    \"Model_4_Hybrid_Char+Token_EMbedding\":model_4_results,\n",
        "    \"Model_5_Char+Token+Position_Tribred_Embedding\":model_5_results\n",
        "}).transpose()"
      ],
      "metadata": {
        "id": "dBDqbJ9sZFas"
      },
      "execution_count": 152,
      "outputs": []
    },
    {
      "cell_type": "code",
      "source": [
        "\n",
        "results_df.fillna(0,inplace=True)"
      ],
      "metadata": {
        "id": "naV2rqPkZrj2"
      },
      "execution_count": 154,
      "outputs": []
    },
    {
      "cell_type": "code",
      "source": [
        "results_df.plot(kind='bar',figsize=(10,7));"
      ],
      "metadata": {
        "colab": {
          "base_uri": "https://localhost:8080/",
          "height": 510
        },
        "id": "C0tQYHl6ZsqE",
        "outputId": "60c184c4-530b-495e-dccc-2b6ce867ccb6"
      },
      "execution_count": 156,
      "outputs": [
        {
          "output_type": "display_data",
          "data": {
            "text/plain": [
              "<Figure size 432x288 with 1 Axes>"
            ],
            "image/png": "[encoded data removed]"
          },
          "metadata": {
            "needs_background": "light"
          }
        }
      ]
    },
    {
      "cell_type": "code",
      "source": [
        ""
      ],
      "metadata": {
        "id": "8U9vAq7zbECF"
      },
      "execution_count": null,
      "outputs": []
    }
  ],
  "metadata": {
    "colab": {
      "collapsed_sections": [],
      "name": "SkimLit_Implementation.ipynb",
      "provenance": [],
      "authorship_tag": "ABX9TyNuPFbH5xSU8wzOdGZSsRKr",
      "include_colab_link": true
    },
    "kernelspec": {
      "display_name": "Python 3",
      "name": "python3"
    },
    "language_info": {
      "name": "python"
    },
    "accelerator": "GPU"
  },
  "nbformat": 4,
  "nbformat_minor": 0
}